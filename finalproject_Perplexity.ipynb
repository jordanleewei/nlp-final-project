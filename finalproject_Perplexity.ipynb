{
  "cells": [
    {
      "cell_type": "markdown",
      "metadata": {
        "id": "eIRhc7drd8AY"
      },
      "source": [
        "# 50.040 Natural Language Processing (Fall 2024) Final Project (100 Points)\n",
        "\n",
        "**DUE DATE: 13 December 2024**\n",
        "\n",
        "Final project will be graded by Chen Huang"
      ]
    },
    {
      "cell_type": "markdown",
      "metadata": {
        "id": "FsCU5Q_6d8Ac"
      },
      "source": [
        "\n",
        "# Group Information (Fill before you start)\n",
        "\n",
        "**Group Name:** Perplexity\n",
        "\n",
        "**Name(STUDNET ID) (2-3 person):**  \n",
        "Jordan Lee Wei 1005906\n",
        "Shwetha Iyer 1006308\n",
        "Anutham Mukunthan 1006202\n",
        "\n",
        "**Please also rename the final submitted pdf as ``finalproject_[GROUP_NAME].pdf``**\n",
        "\n",
        "**-1 points if info not filled or file name not adjusted before submission, -100 points if you copy other's answer. We encourage discussion, but please do not copy without thinking.**"
      ]
    },
    {
      "cell_type": "markdown",
      "metadata": {
        "id": "bDOUuC7-CdX-"
      },
      "source": [
        "## [!] Please read this if your computer does not have GPUs.\n",
        "### Free GPU Resources\n",
        "We suggest that you run neural language models on machines with GPU(s). Google provides the free online platform [Colaboratory](https://colab.research.google.com/notebooks/welcome.ipynb), a research tool for machine learning education and research. It’s a Jupyter notebook environment that requires no setup to use as common packages have been  pre-installed. Google users can have access to a Tesla T4 GPU (approximately 15G memory). Note that when you connect to a GPU-based VM runtime, you are given a maximum of 12 hours at a time on the VM.\n",
        "\n",
        "Colab is web-based, fast and convinient. You can simply upload this notebook and run it online. For the database needed in this task, you can download it and upload to colab OR you can save it in your google drive and link it with the colab.\n",
        "\n",
        "It is convenient to upload local Jupyter Notebook files and data to Colab, please refer to the [tutorial](https://colab.research.google.com/notebooks/io.ipynb).\n",
        "\n",
        "In addition, Microsoft also provides the online platform [Azure Notebooks](https://notebooks.azure.com/help/introduction) for research of data science and machine learning, there are free trials for new users with credits."
      ]
    },
    {
      "cell_type": "markdown",
      "metadata": {
        "id": "V0iF5uWcCdXV"
      },
      "source": [
        "# Instructions\n",
        "Please read the following instructions carefully before you begin this project:\n",
        "\n",
        "- This is a group project. You are allowed to form groups in any way you like, but each group must consist of either 2 or 3 people. Please submit your group information to eDimension as soon as possible if you have not yet done so (the deadline was 11th October 2024).\n",
        "\n",
        "- Each group should submit code along with a report summarizing your work, and provide clear instructions on how to run your code. Additionally, please submit your system's outputs. The output should be in the same column format as the training set.\n",
        "\n",
        "- You are given **8** weeks to work on the project. We understand this is a busy time during your final term, so Week **13** will be reserved as the \"Final Project Week\" for you to focus on the project (i.e., there will be no classes that week). Please plan and manage your time well.\n",
        "\n",
        "- Please use Python to complete this project."
      ]
    },
    {
      "cell_type": "markdown",
      "metadata": {
        "id": "kV-3IZvrDWB5"
      },
      "source": [
        "# Project Summary\n",
        "Welcome to the design project for our natural language processing (NLP) course offered at SUTD!\n",
        "\n",
        "In this project, you will undertake an NLP task in _sentiment analysis_. We will begin by guiding you through data understanding, pre-processing, and instructing you to construct RNN and CNN models for the task. Afterward, you are encouraged to develop your own model to improve the results. The final test set will be released on **11 December 2024 at 5pm** (48 hours before the final project deadline). You will use your own system to generate the outputs. The system with the highest F1 score will be announced as the winner for each challenge. If no clear winner emerges from the test set results, further analysis or evaluations may be conducted."
      ]
    },
    {
      "cell_type": "markdown",
      "metadata": {
        "id": "F5wC4lqKCdXW"
      },
      "source": [
        "# Task Introduction and Data pre-processing (20 points)\n",
        "## Sentiment Analysis\n",
        "With the proliferation of online social media and review platforms, vast amounts of opinionated data have been generated, offering immense potential to support decision-making processes. Sentiment analysis examines people's sentiments expressed in text, such as product reviews, blog comments, and forum discussions. It finds wide applications in diverse fields, including politics (e.g., analyzing public sentiment towards policies), finance (e.g., evaluating market sentiments), and marketing (e.g., product research and brand management).\n",
        "\n",
        "Since sentiments can often be categorized into discrete polarities or scales (e.g., positive or negative), sentiment analysis can be framed as a text classification task. This task involves transforming text sequences of varying lengths into fixed-length categorical labels.\n",
        "\n",
        "## Data pre-processing\n",
        "In this project, we will utilize [Stanford's large movie review dataset](https://ai.stanford.edu/%7Eamaas/data/sentiment/) for sentiment analysis. The dataset consists of a training set and a testing set, each containing 25,000 movie reviews sourced from IMDb. Both datasets have an equal number of \"positive\" and \"negative\" labels, representing different sentiment polarities. Please download and extract this IMDb review dataset in the path `../data/aclImdb`.\n",
        "\n",
        "*Hints*: While the following instructions are based on a split of 25,000 for training and 25,000 for testing, you are free to choose your own dataset split, as we will provide a separate test set for the final evaluation. However, any changes you make to the default split must be clearly indicated in your report. Failure to explicitly mention such modifications may result in a penalty.\n",
        "\n"
      ]
    },
    {
      "cell_type": "code",
      "execution_count": 1,
      "metadata": {
        "collapsed": true,
        "id": "H-dYvJEjDWB6"
      },
      "outputs": [],
      "source": [
        "\n",
        "import os\n",
        "import torch\n",
        "from torch import nn\n",
        "#!pip install d2l\n",
        "from d2l import torch as d2l # You can skip this if you have trouble with this package, all d2l-related codes can be replaced by torch functions."
      ]
    },
    {
      "cell_type": "code",
      "execution_count": 2,
      "metadata": {
        "colab": {
          "base_uri": "https://localhost:8080/"
        },
        "id": "95LkvitaOkJG",
        "outputId": "792c2654-c7cf-45ad-fa5d-6adfdede9e7c"
      },
      "outputs": [
        {
          "name": "stdout",
          "output_type": "stream",
          "text": [
            "cuda\n"
          ]
        }
      ],
      "source": [
        "device = torch.device(\"cuda\" if torch.cuda.is_available() else \"cpu\")\n",
        "print(device)"
      ]
    },
    {
      "cell_type": "code",
      "execution_count": 3,
      "metadata": {
        "id": "FRfpaQpDDWB6"
      },
      "outputs": [],
      "source": [
        "# Skip this if you have already downloaded the dataset\n",
        "d2l.DATA_HUB['aclImdb'] = (d2l.DATA_URL + 'aclImdb_v1.tar.gz',\n",
        "                          '01ada507287d82875905620988597833ad4e0903')\n",
        "\n",
        "data_dir = d2l.download_extract('aclImdb', 'aclImdb')"
      ]
    },
    {
      "cell_type": "markdown",
      "metadata": {
        "id": "TkdlOfiKDWB7"
      },
      "source": [
        "# Questions"
      ]
    },
    {
      "cell_type": "markdown",
      "metadata": {
        "id": "G0vxL-WpCdXX"
      },
      "source": [
        "### Question 1 [code] **(5 points)**\n",
        "Complete the function ``read_imdb``, which reads the IMDb review dataset text sequences and labels. Then, run the sanity check cell to check your implementation."
      ]
    },
    {
      "cell_type": "code",
      "execution_count": 4,
      "metadata": {
        "cellView": "code",
        "id": "TOyoT-QiCdXY"
      },
      "outputs": [],
      "source": [
        "#@save\n",
        "def read_imdb(data_dir, is_train):\n",
        "    \"\"\"Read the IMDb review dataset text sequences and labels.\"\"\"\n",
        "    data = []\n",
        "    labels = []\n",
        "    folder = 'train' if is_train else 'test'\n",
        "    for label in ['pos', 'neg']:\n",
        "        labeled_folder = os.path.join(data_dir, folder, label)\n",
        "        for filename in os.listdir(labeled_folder):\n",
        "            if filename.endswith('.txt'):\n",
        "                with open(os.path.join(labeled_folder, filename), 'r', encoding='utf-8') as f:\n",
        "                    review = f.read()\n",
        "                    data.append(review)\n",
        "                    labels.append(1 if label == 'pos' else 0)\n",
        "    return data, labels\n"
      ]
    },
    {
      "cell_type": "code",
      "execution_count": 5,
      "metadata": {
        "colab": {
          "base_uri": "https://localhost:8080/"
        },
        "id": "yiXx0DosDWB7",
        "outputId": "76ae7cae-08a7-499a-ff8e-81f238f501f9"
      },
      "outputs": [
        {
          "name": "stdout",
          "output_type": "stream",
          "text": [
            "# trainings: 25000\n",
            "label: 1 review: Since was only a toddler when this show originally aired I j\n",
            "label: 1 review: When you see this movie you begin to realise what a drastica\n",
            "label: 1 review: I didn't know what to except so I think it was a lot better \n"
          ]
        }
      ],
      "source": [
        "# Sanity check\n",
        "train_data = read_imdb(data_dir, is_train=True)\n",
        "\n",
        "print('# trainings:', len(train_data[0]))\n",
        "for x, y in zip(train_data[0][:3], train_data[1][:3]):\n",
        "    print('label:', y, 'review:', x[:60])"
      ]
    },
    {
      "cell_type": "markdown",
      "metadata": {
        "id": "_Ur52HVMDWB7"
      },
      "source": [
        "### Question 2 [code] **(5 points)**\n",
        "Treating each word as a token and filtering out words that appear less than 5 times, we create a vocabulary out of the training dataset. After tokenization, please plot the histogram of review lengths in tokens. (Hint: you can use ``matplotlib`` package to draw the histogram.) Then, run the sanity check cell to check your implementation."
      ]
    },
    {
      "cell_type": "code",
      "execution_count": 6,
      "metadata": {
        "id": "Cps87t_JDWB8"
      },
      "outputs": [],
      "source": [
        "train_tokens = d2l.tokenize(train_data[0], token='word')\n",
        "vocab = d2l.Vocab(train_tokens, min_freq=5, reserved_tokens=['<pad>'])"
      ]
    },
    {
      "cell_type": "code",
      "execution_count": 7,
      "metadata": {
        "colab": {
          "base_uri": "https://localhost:8080/",
          "height": 449
        },
        "id": "1DBgOQT0DWB8",
        "outputId": "d3b3336a-1c8f-45f0-b05e-308dd46ec0b2"
      },
      "outputs": [
        {
          "data": {
            "image/png": "[encoded data removed]",
            "text/plain": [
              "<Figure size 640x480 with 1 Axes>"
            ]
          },
          "metadata": {},
          "output_type": "display_data"
        }
      ],
      "source": [
        "# xlabel: # tokens per review\n",
        "# ylabel: count\n",
        "import matplotlib.pyplot as plt\n",
        "\n",
        "review_lengths = [len(tokens) for tokens in train_tokens]\n",
        "plt.hist(review_lengths, bins=range(0, 1000, 50))\n",
        "plt.xlabel('# tokens per review')\n",
        "plt.ylabel('count')\n",
        "plt.show()"
      ]
    },
    {
      "cell_type": "code",
      "execution_count": 8,
      "metadata": {
        "colab": {
          "base_uri": "https://localhost:8080/"
        },
        "id": "NB9aktRODWB8",
        "outputId": "16774ca4-0004-4b2c-faae-ccc3c328e956"
      },
      "outputs": [
        {
          "name": "stdout",
          "output_type": "stream",
          "text": [
            "torch.Size([25000, 500])\n"
          ]
        }
      ],
      "source": [
        "num_steps = 500  # sequence length\n",
        "train_features = torch.tensor([d2l.truncate_pad(\n",
        "    vocab[line], num_steps, vocab['<pad>']) for line in train_tokens])\n",
        "print(train_features.shape)"
      ]
    },
    {
      "cell_type": "markdown",
      "metadata": {
        "id": "pAAeu3JZDWB8"
      },
      "source": [
        "### Question 3 [code] **(5 points)**\n",
        "Create data iterator ``train_iter``, at each iteration, a minibatch of examples are returned. Let's set the mini-batch size to 64.\n",
        "\n"
      ]
    },
    {
      "cell_type": "code",
      "execution_count": 9,
      "metadata": {
        "colab": {
          "base_uri": "https://localhost:8080/"
        },
        "id": "dQvUAcOADWB8",
        "outputId": "eebcf5ac-daee-4708-96ed-ca623b01b85f"
      },
      "outputs": [
        {
          "name": "stdout",
          "output_type": "stream",
          "text": [
            "X: torch.Size([64, 500]) , y: torch.Size([64])\n",
            "# batches: 391\n"
          ]
        }
      ],
      "source": [
        "from torch.utils.data import TensorDataset, DataLoader\n",
        "\n",
        "batch_size = 64\n",
        "train_set = TensorDataset(train_features, torch.tensor(train_data[1]))\n",
        "train_iter = DataLoader(train_set, batch_size=batch_size, shuffle=True)\n",
        "\n",
        "\n",
        "for X, y in train_iter:\n",
        "    print('X:', X.shape, ', y:', y.shape)\n",
        "    break\n",
        "print('# batches:', len(train_iter))"
      ]
    },
    {
      "cell_type": "markdown",
      "metadata": {
        "id": "PVpoDgU7CdXb"
      },
      "source": [
        "### Question 4 [code] **(5 points)**\n",
        "Finally, wrap up the above steps into the ``load_data_imdb`` function. It returns training and test data iterators and the vocabulary of the IMDb review dataset.\n"
      ]
    },
    {
      "cell_type": "code",
      "execution_count": 10,
      "metadata": {
        "cellView": "code",
        "id": "gkxmzsz0DWB8"
      },
      "outputs": [],
      "source": [
        "#@save\n",
        "def load_data_imdb(batch_size, num_steps=500):\n",
        "    \"\"\"Return data iterators and the vocabulary of the IMDb review dataset.\"\"\"\n",
        "    data_dir = '../data/aclImdb'\n",
        "    train_data = read_imdb(data_dir, is_train=True)\n",
        "    test_data = read_imdb(data_dir, is_train=False)\n",
        "    train_tokens = d2l.tokenize(train_data[0], token='word')\n",
        "    test_tokens = d2l.tokenize(test_data[0], token='word')\n",
        "    vocab = d2l.Vocab(train_tokens, min_freq=5, reserved_tokens=['<pad>'])\n",
        "    train_features = torch.tensor([d2l.truncate_pad(\n",
        "        vocab[line], num_steps, vocab['<pad>']) for line in train_tokens])\n",
        "    test_features = torch.tensor([d2l.truncate_pad(\n",
        "        vocab[line], num_steps, vocab['<pad>']) for line in test_tokens])\n",
        "    train_iter = DataLoader(TensorDataset(train_features, torch.tensor(train_data[1])), batch_size=batch_size, shuffle=True)\n",
        "    test_iter = DataLoader(TensorDataset(test_features, torch.tensor(test_data[1])), batch_size=batch_size)\n",
        "    return train_iter, test_iter, vocab"
      ]
    },
    {
      "cell_type": "markdown",
      "metadata": {
        "id": "2kAezpJ9CdXd"
      },
      "source": [
        "# Using RNN for sentiment analysis (30 points)\n",
        "Similar to word similarity and analogy tasks, pre-trained word vectors can also be applied to sentiment analysis. Given that the IMDb review dataset is relatively small, using text representations pre-trained on large-scale corpora can help mitigate model overfitting. Each token can be represented using the pre-trained GloVe model, and these token embeddings can be fed into a multilayer bidirectional RNN to generate a sequence representation of the text, which will then be transformed into sentiment analysis outputs. Later, we will explore an alternative architectural approach for the same downstream task."
      ]
    },
    {
      "cell_type": "markdown",
      "metadata": {
        "id": "kMVKiJnmDWB8"
      },
      "source": [
        "### Question 5 [code] **(10 points)**\n",
        "In text classification tasks, such as sentiment analysis, a varying-length text sequence is transformed into fixed-length categorical labels. Following the instructions, please complete ``BiRNN`` class, each token in a text sequence receives its individual pre-trained GloVe representation through the embedding layer (``self.embedding``). The entire sequence is then encoded by a bidirectional RNN (``self.encoder``). Specifically, the hidden states from the last layer of the bidirectional LSTM, at both the initial and final time steps, are concatenated to form the representation of the text sequence. This representation is subsequently passed through a fully connected layer (``self.decoder``) to produce the final output categories, which in this case are \"positive\" and \"negative\"."
      ]
    },
    {
      "cell_type": "code",
      "execution_count": 11,
      "metadata": {
        "id": "6Xjr5cpFDWB8"
      },
      "outputs": [],
      "source": [
        "batch_size = 64\n",
        "train_iter, test_iter, vocab = load_data_imdb(batch_size)"
      ]
    },
    {
      "cell_type": "code",
      "execution_count": 12,
      "metadata": {
        "id": "IjfibjiyDWB8"
      },
      "outputs": [],
      "source": [
        "class BiRNN(nn.Module):\n",
        "    def __init__(self, vocab_size, embed_size, num_hiddens,\n",
        "                 num_layers, **kwargs):\n",
        "        super(BiRNN, self).__init__(**kwargs)\n",
        "        self.embedding = nn.Embedding(vocab_size, embed_size)\n",
        "        # Set `bidirectional` to True to get a bidirectional RNN\n",
        "        self.encoder = nn.LSTM(embed_size, num_hiddens, num_layers=num_layers,\n",
        "                                bidirectional=True)\n",
        "        self.decoder = nn.Linear(4 * num_hiddens, 2)\n",
        "\n",
        "    def forward(self, inputs):\n",
        "        # The shape of `inputs` is (batch size, no. of time steps). Because\n",
        "        # LSTM requires its input's first dimension to be the temporal\n",
        "        # dimension, the input is transposed before obtaining token\n",
        "        # representations. The output shape is (no. of time steps, batch size,\n",
        "        # word vector dimension)\n",
        "\n",
        "        # Returns hidden states of the last hidden layer at different time\n",
        "        # steps. The shape of `outputs` is (no. of time steps, batch size,\n",
        "        # 2 * no. of hidden units)\n",
        "\n",
        "        # Concatenate the hidden states at the initial and final time steps as\n",
        "        # the input of the fully connected layer. Its shape is (batch size,\n",
        "        # 4 * no. of hidden units)\n",
        "\n",
        "        ### YOUR CODE HERE\n",
        "        embeddings=self.embedding(inputs)\n",
        "        embeddings=embeddings.permute(1,0,2)\n",
        "        outputs, _ = self.encoder(embeddings)\n",
        "        encoding = torch.cat((outputs[0], outputs[-1]), dim=1)\n",
        "        outs = self.decoder(encoding)\n",
        "        ### END OF YOUR CODE\n",
        "\n",
        "        return outs"
      ]
    },
    {
      "cell_type": "markdown",
      "metadata": {
        "id": "f_x9vKYCDWB9"
      },
      "source": [
        "Let’s construct a bidirectional RNN with two hidden layers to represent single text for sentiment analysis."
      ]
    },
    {
      "cell_type": "code",
      "execution_count": 13,
      "metadata": {
        "colab": {
          "base_uri": "https://localhost:8080/"
        },
        "id": "gfzmNkV8DWB9",
        "outputId": "d8713db2-1e86-4ade-8141-e077bd861d80"
      },
      "outputs": [
        {
          "data": {
            "text/plain": [
              "BiRNN(\n",
              "  (embedding): Embedding(49347, 100)\n",
              "  (encoder): LSTM(100, 100, num_layers=2, bidirectional=True)\n",
              "  (decoder): Linear(in_features=400, out_features=2, bias=True)\n",
              ")"
            ]
          },
          "execution_count": 13,
          "metadata": {},
          "output_type": "execute_result"
        }
      ],
      "source": [
        "embed_size, num_hiddens, num_layers, devices = 100, 100, 2, d2l.try_all_gpus()\n",
        "net = BiRNN(len(vocab), embed_size, num_hiddens, num_layers)\n",
        "\n",
        "def init_weights(module):\n",
        "    if type(module) == nn.Linear:\n",
        "        nn.init.xavier_uniform_(module.weight)\n",
        "    if type(module) == nn.LSTM:\n",
        "        for param in module._flat_weights_names:\n",
        "            if \"weight\" in param:\n",
        "                nn.init.xavier_uniform_(module._parameters[param])\n",
        "net.apply(init_weights)"
      ]
    },
    {
      "cell_type": "markdown",
      "metadata": {
        "id": "N405mT2RDWB9"
      },
      "source": [
        "### Loading Pretrained Word Vectors"
      ]
    },
    {
      "cell_type": "code",
      "execution_count": 14,
      "metadata": {
        "colab": {
          "base_uri": "https://localhost:8080/"
        },
        "id": "Opb3-H5WDWB9",
        "outputId": "157537e3-5046-4df2-a546-d1165c69f7f2"
      },
      "outputs": [
        {
          "name": "stdout",
          "output_type": "stream",
          "text": [
            "Downloading ../data/glove.6B.100d.zip from http://d2l-data.s3-accelerate.amazonaws.com/glove.6B.100d.zip...\n"
          ]
        },
        {
          "data": {
            "text/plain": [
              "torch.Size([49347, 100])"
            ]
          },
          "execution_count": 14,
          "metadata": {},
          "output_type": "execute_result"
        }
      ],
      "source": [
        "glove_embedding = d2l.TokenEmbedding('glove.6b.100d')\n",
        "embeds = glove_embedding[vocab.idx_to_token]\n",
        "embeds.shape # Print the shape of the vectors for all the tokens in the vocabulary."
      ]
    },
    {
      "cell_type": "markdown",
      "metadata": {
        "id": "nAae8BQFDWB9"
      },
      "source": [
        "We use these pretrained word vectors to represent tokens in the reviews and will not update these vectors during training"
      ]
    },
    {
      "cell_type": "code",
      "execution_count": 15,
      "metadata": {
        "id": "PZMaK2lIDWB9"
      },
      "outputs": [],
      "source": [
        "net.embedding.weight.data.copy_(embeds)\n",
        "net.embedding.weight.requires_grad = False"
      ]
    },
    {
      "cell_type": "markdown",
      "metadata": {
        "id": "kK77jylZDWB9"
      },
      "source": [
        "### Question 6 [code] **(10 points)**\n",
        "After loading the pretrained word vectors, we can now start to train the model. Please use ``Adam`` optimizer and ``CrossEntropyLoss`` for training and draw a graph about your training loss, training acc and testing acc."
      ]
    },
    {
      "cell_type": "code",
      "execution_count": 16,
      "metadata": {
        "colab": {
          "base_uri": "https://localhost:8080/",
          "height": 553
        },
        "id": "qgito4UzDWB9",
        "outputId": "1ed33b46-40e2-49c9-c4cd-13e63f136d3a",
        "scrolled": true
      },
      "outputs": [
        {
          "name": "stdout",
          "output_type": "stream",
          "text": [
            "Epoch: 1, Training Loss: 0.5435\n",
            "Epoch: 2, Training Loss: 0.3977\n",
            "Epoch: 3, Training Loss: 0.3723\n",
            "Epoch: 4, Training Loss: 0.3405\n",
            "Epoch: 5, Training Loss: 0.3168\n"
          ]
        },
        {
          "data": {
            "text/plain": [
              "Text(0, 0.5, 'Train_loss')"
            ]
          },
          "execution_count": 16,
          "metadata": {},
          "output_type": "execute_result"
        },
        {
          "data": {
            "image/png": "[encoded data removed]",
            "text/plain": [
              "<Figure size 640x480 with 1 Axes>"
            ]
          },
          "metadata": {},
          "output_type": "display_data"
        }
      ],
      "source": [
        "lr, num_epochs = 0.01, 5\n",
        "### YOUR CODE HERE\n",
        "criterion = nn.CrossEntropyLoss()\n",
        "optimizer = torch.optim.Adam(net.parameters(), lr=lr)\n",
        "device = torch.device(\"cuda\" if torch.cuda.is_available() else \"cpu\")\n",
        "net.to(device)\n",
        "loss_array=[]\n",
        "for n in range(num_epochs):\n",
        "        train_loss = 0\n",
        "        target_num = 0\n",
        "        net.train()\n",
        "        for batch_idx, (data, target) in enumerate(train_iter):\n",
        "            data, target = data.to(device), target.to(device)\n",
        "            loss = None\n",
        "            prediction= net(data)\n",
        "            loss = criterion(prediction,target)\n",
        "            optimizer.zero_grad()\n",
        "            loss.backward()\n",
        "            optimizer.step()\n",
        "            train_loss += loss.item() * target.size(0)\n",
        "            target_num += target.size(0)\n",
        "\n",
        "        train_loss /= target_num\n",
        "        loss_array.append(train_loss)\n",
        "        print('Epoch: {}, Training Loss: {:.4f}'.format(n+1, train_loss))\n",
        "\n",
        "plt.plot([i+1 for i in range(num_epochs)],loss_array)\n",
        "plt.xlabel(\"Epoch\")\n",
        "plt.ylabel(\"Train_loss\")\n",
        "### END OF YOUR CODE"
      ]
    },
    {
      "cell_type": "markdown",
      "metadata": {
        "id": "xLlEW-qXDWB9"
      },
      "source": [
        "### Question 7 [code] **(10 points)**\n",
        "Once you have completed the training, it's time to evaluate your model's performance. Implement the function ``predict_sentiment`` to predict the sentiment of a text sequence using the trained model ``net``. Next, define the function ``cal_metrics`` to assess your model on the test set by calculating both accuracy and the F1-score, including precision and recall. Finally, print out the evaluation results. Save the prediction results for each test sample and submit it in the zip file."
      ]
    },
    {
      "cell_type": "code",
      "execution_count": 17,
      "metadata": {
        "id": "6TooAOCcDWB9"
      },
      "outputs": [],
      "source": [
        "#@save\n",
        "def predict_sentiment(net, vocab, sequence):\n",
        "    \"\"\"Predict the sentiment of a text sequence.\"\"\"\n",
        "    ### YOUR CODE HERE\n",
        "    indices = [vocab[i] for i in sequence.split()]\n",
        "    device = torch.device(\"cuda\" if torch.cuda.is_available() else \"cpu\")\n",
        "    with torch.no_grad():\n",
        "      prediction=net(torch.tensor(indices).unsqueeze(0).to(device))\n",
        "    label = torch.argmax(prediction, dim=1).item()\n",
        "    ### END OF YOUR CODE\n",
        "    return 'positive' if label == 1 else 'negative'"
      ]
    },
    {
      "cell_type": "code",
      "execution_count": 18,
      "metadata": {
        "colab": {
          "base_uri": "https://localhost:8080/",
          "height": 35
        },
        "id": "5s6JEAdcDWB9",
        "outputId": "7bc364f8-e722-4e53-b483-7c45e24d48f0"
      },
      "outputs": [
        {
          "data": {
            "application/vnd.google.colaboratory.intrinsic+json": {
              "type": "string"
            },
            "text/plain": [
              "'positive'"
            ]
          },
          "execution_count": 18,
          "metadata": {},
          "output_type": "execute_result"
        }
      ],
      "source": [
        "predict_sentiment(net, vocab, 'this movie is so great')"
      ]
    },
    {
      "cell_type": "code",
      "execution_count": 19,
      "metadata": {
        "colab": {
          "base_uri": "https://localhost:8080/",
          "height": 35
        },
        "id": "-r6aNdqgDWB9",
        "outputId": "ef37edc7-a1b3-4d08-e036-57cb94a5b139"
      },
      "outputs": [
        {
          "data": {
            "application/vnd.google.colaboratory.intrinsic+json": {
              "type": "string"
            },
            "text/plain": [
              "'negative'"
            ]
          },
          "execution_count": 19,
          "metadata": {},
          "output_type": "execute_result"
        }
      ],
      "source": [
        "predict_sentiment(net, vocab, 'this movie is so bad')"
      ]
    },
    {
      "cell_type": "code",
      "execution_count": 44,
      "metadata": {
        "id": "wqJ6lLEwDWB-"
      },
      "outputs": [],
      "source": [
        "def cal_metrics(net, test_iter, vocab):\n",
        "    \"\"\"Outputs a CSV file 'prediction_results.csv'\n",
        "    with columns: review,gold_label,predicted_label.\n",
        "    \"\"\"\n",
        "    device = torch.device(\"cuda\" if torch.cuda.is_available() else \"cpu\")\n",
        "    net.to(device)\n",
        "    net.eval()\n",
        "    results = []\n",
        "\n",
        "    tp, tn, fp, fn = 0, 0, 0, 0\n",
        "    pad_idx = vocab['<pad>']\n",
        "\n",
        "    for batch_idx, (data, target) in enumerate(test_iter):\n",
        "        data, target = data.to(device), target.to(device)\n",
        "        with torch.no_grad():\n",
        "            prediction = net(data)\n",
        "        label = torch.argmax(prediction, dim=1)\n",
        "        data_cpu = data.cpu().numpy()\n",
        "        for i in range(len(data_cpu)):\n",
        "            tokens = [vocab.idx_to_token[idx] for idx in data_cpu[i] if idx != pad_idx]\n",
        "            review_text = \" \".join(tokens)\n",
        "            gold_label = int(target[i].item())\n",
        "            pred_label = int(label[i].item())\n",
        "            results.append((review_text, gold_label, pred_label))\n",
        "\n",
        "        tp += ((label == 1) & (target == 1)).sum().item()\n",
        "        tn += ((label == 0) & (target == 0)).sum().item()\n",
        "        fp += ((label == 1) & (target == 0)).sum().item()\n",
        "        fn += ((label == 0) & (target == 1)).sum().item()\n",
        "\n",
        "    accuracy = (tp+tn)/(tp+tn+fp+fn)\n",
        "    precision = tp/(tp+fp) if (tp+fp) > 0 else 0\n",
        "    recall = tp/(tp+fn) if (tp+fn) > 0 else 0\n",
        "    F1_Score = 2*(precision*recall)/(precision+recall) if (precision+recall) > 0 else 0\n",
        "\n",
        "    import csv\n",
        "    with open('prediction_results.csv', 'w', newline='', encoding='utf-8') as f:\n",
        "        writer = csv.writer(f)\n",
        "        writer.writerow([\"review\", \"gold_label\", \"predicted_label\"])\n",
        "        for review_text, gold_label, pred_label in results:\n",
        "            writer.writerow([review_text, gold_label, pred_label])\n",
        "\n",
        "    return F1_Score, precision, recall, accuracy\n"
      ]
    },
    {
      "cell_type": "code",
      "execution_count": 24,
      "metadata": {
        "colab": {
          "base_uri": "https://localhost:8080/"
        },
        "id": "5kZAMGWzDWB-",
        "outputId": "04254b9b-132e-4875-8967-53852dc0ef45"
      },
      "outputs": [
        {
          "data": {
            "text/plain": [
              "(0.837059094912553, 0.8797496253195803, 0.79832, 0.8446)"
            ]
          },
          "execution_count": 24,
          "metadata": {},
          "output_type": "execute_result"
        }
      ],
      "source": [
        "cal_metrics(net, test_iter, vocab)"
      ]
    },
    {
      "cell_type": "markdown",
      "metadata": {
        "id": "g6ECAErUDWB-"
      },
      "source": [
        "# Using CNN for sentiment analysis (20 points)\n",
        "Although CNNs were originally designed for computer vision, they have been widely adopted in natural language processing as well. Conceptually, a text sequence can be viewed as a one-dimensional image, allowing one-dimensional CNNs to capture local features, such as n-grams, within the text. We will use the textCNN model to demonstrate how to design a CNN architecture for representing a single text.\n",
        "\n",
        "Using one-dimensional convolution and max-over-time pooling, the textCNN model takes individual pre-trained token representations as input, then extracts and transforms these sequence representations for downstream tasks.\n",
        "\n",
        "For a single text sequence with $n$ tokens represented by $d$-dimensional vectors, the width, height, and number of channels of the input tensor are $n$, $1$, and $d$, respectively. The textCNN model processes the input as follows:\n",
        "\n",
        "1. Define multiple one-dimensional convolutional kernels and apply convolution operations on the inputs. Convolution kernels with varying widths capture local features across different numbers of adjacent tokens.\n",
        "2. Apply max-over-time pooling to all output channels, then concatenate the resulting scalar outputs into a vector.\n",
        "3. Pass the concatenated vector through a fully connected layer to generate the output categories. Dropout can be applied to reduce overfitting."
      ]
    },
    {
      "cell_type": "markdown",
      "metadata": {
        "id": "8OKb3ZpSDWCD"
      },
      "source": [
        "### Question 8 [code] **(10 points)**\n",
        "Implement the ``textCNN`` model class. Compared with the bidirectional RNN model in Section 2, besides replacing recurrent layers with convolutional layers, we also use two embedding layers: one with trainable weights and the other with fixed weights."
      ]
    },
    {
      "cell_type": "code",
      "execution_count": 25,
      "metadata": {
        "id": "QHk-CUsFDWCE"
      },
      "outputs": [],
      "source": [
        "batch_size = 64\n",
        "train_iter, test_iter, vocab = d2l.load_data_imdb(batch_size)"
      ]
    },
    {
      "cell_type": "code",
      "execution_count": 26,
      "metadata": {
        "id": "NKD2zjkYDWCE"
      },
      "outputs": [],
      "source": [
        "class TextCNN(nn.Module):\n",
        "    def __init__(self, vocab_size, embed_size, kernel_sizes, num_channels,\n",
        "                 **kwargs):\n",
        "        super(TextCNN, self).__init__(**kwargs)\n",
        "        self.embedding = nn.Embedding(vocab_size, embed_size)\n",
        "        # The embedding layer not to be trained\n",
        "        self.constant_embedding = nn.Embedding(vocab_size, embed_size)\n",
        "        self.dropout = nn.Dropout(0.5)\n",
        "        self.decoder = nn.Linear(sum(num_channels), 2)\n",
        "        # The max-over-time pooling layer has no parameters, so this instance\n",
        "        # can be shared\n",
        "        self.pool = nn.AdaptiveAvgPool1d(1)\n",
        "        self.relu = nn.ReLU()\n",
        "        # Create multiple one-dimensional convolutional layers\n",
        "        self.convs = nn.ModuleList()\n",
        "        for c, k in zip(num_channels, kernel_sizes):\n",
        "            self.convs.append(nn.Conv1d(2 * embed_size, c, k))\n",
        "\n",
        "    def forward(self, inputs):\n",
        "        # Concatenate two embedding layer outputs with shape (batch size, no.\n",
        "        # of tokens, token vector dimension) along vectors\n",
        "\n",
        "        # Per the input format of one-dimensional convolutional layers,\n",
        "        # rearrange the tensor so that the second dimension stores channels\n",
        "\n",
        "        # For each one-dimensional convolutional layer, after max-over-time\n",
        "        # pooling, a tensor of shape (batch size, no. of channels, 1) is\n",
        "        # obtained. Remove the last dimension and concatenate along channels\n",
        "\n",
        "        ### YOUR CODE HERE\n",
        "        emb1=self.embedding(inputs)\n",
        "        emb2=self.constant_embedding(inputs)\n",
        "        conc_emb=torch.cat((emb1, emb2), dim=-1)\n",
        "        conc_emb = conc_emb.permute(0, 2, 1)\n",
        "        conv_pooled_outputs = []\n",
        "        for conv in self.convs:\n",
        "            conv_out = conv(conc_emb)\n",
        "            pooled = torch.max(conv_out, dim=2, keepdim=True)[0]\n",
        "            conv_pooled_outputs.append(pooled)\n",
        "        outputs = torch.cat(conv_pooled_outputs, dim=1)\n",
        "        outputs = outputs.squeeze(-1)\n",
        "        ### END OF YOUR CODE\n",
        "\n",
        "        return outputs"
      ]
    },
    {
      "cell_type": "code",
      "execution_count": 27,
      "metadata": {
        "colab": {
          "base_uri": "https://localhost:8080/"
        },
        "id": "ADJI1ZfzDWCE",
        "outputId": "943e330b-d9ba-4a5e-d6d6-a91cfbbe28c1"
      },
      "outputs": [
        {
          "data": {
            "text/plain": [
              "TextCNN(\n",
              "  (embedding): Embedding(49346, 100)\n",
              "  (constant_embedding): Embedding(49346, 100)\n",
              "  (dropout): Dropout(p=0.5, inplace=False)\n",
              "  (decoder): Linear(in_features=300, out_features=2, bias=True)\n",
              "  (pool): AdaptiveAvgPool1d(output_size=1)\n",
              "  (relu): ReLU()\n",
              "  (convs): ModuleList(\n",
              "    (0): Conv1d(200, 100, kernel_size=(3,), stride=(1,))\n",
              "    (1): Conv1d(200, 100, kernel_size=(4,), stride=(1,))\n",
              "    (2): Conv1d(200, 100, kernel_size=(5,), stride=(1,))\n",
              "  )\n",
              ")"
            ]
          },
          "execution_count": 27,
          "metadata": {},
          "output_type": "execute_result"
        }
      ],
      "source": [
        "embed_size, kernel_sizes, nums_channels = 100, [3, 4, 5], [100, 100, 100]\n",
        "devices = d2l.try_all_gpus()\n",
        "net = TextCNN(len(vocab), embed_size, kernel_sizes, nums_channels)\n",
        "\n",
        "def init_weights(module):\n",
        "    if type(module) in (nn.Linear, nn.Conv1d):\n",
        "        nn.init.xavier_uniform_(module.weight)\n",
        "\n",
        "net.apply(init_weights)"
      ]
    },
    {
      "cell_type": "code",
      "execution_count": 28,
      "metadata": {
        "id": "LYA_5R0uDWCE"
      },
      "outputs": [],
      "source": [
        "glove_embedding = d2l.TokenEmbedding('glove.6b.100d')\n",
        "embeds = glove_embedding[vocab.idx_to_token]\n",
        "net.embedding.weight.data.copy_(embeds)\n",
        "net.constant_embedding.weight.data.copy_(embeds)\n",
        "net.constant_embedding.weight.requires_grad = False"
      ]
    },
    {
      "cell_type": "markdown",
      "metadata": {
        "id": "AReFquMjDWCE"
      },
      "source": [
        "### Question 9 [code] **(10 points)**\n",
        "Similar to what we have done in Section 2 with RNN, train the CNN model with the same optimizer and loss function. Draw a graph about your training loss, training acc and testing acc. Use the prediction function you defined in Question 7 to evaluate your model performance."
      ]
    },
    {
      "cell_type": "code",
      "execution_count": 29,
      "metadata": {
        "colab": {
          "base_uri": "https://localhost:8080/",
          "height": 553
        },
        "id": "YufmITciDWCE",
        "outputId": "70cc27c7-de74-43a2-e287-a27d92d7c735"
      },
      "outputs": [
        {
          "name": "stdout",
          "output_type": "stream",
          "text": [
            "Epoch: 1, Training Loss: 0.8757\n",
            "Epoch: 2, Training Loss: 0.6762\n",
            "Epoch: 3, Training Loss: 0.6368\n",
            "Epoch: 4, Training Loss: 0.5954\n",
            "Epoch: 5, Training Loss: 0.5585\n"
          ]
        },
        {
          "data": {
            "text/plain": [
              "Text(0, 0.5, 'Train_loss')"
            ]
          },
          "execution_count": 29,
          "metadata": {},
          "output_type": "execute_result"
        },
        {
          "data": {
            "image/png": "[encoded data removed]",
            "text/plain": [
              "<Figure size 640x480 with 1 Axes>"
            ]
          },
          "metadata": {},
          "output_type": "display_data"
        }
      ],
      "source": [
        "lr, num_epochs = 0.001, 5\n",
        "### YOUR CODE HERE\n",
        "criterion = nn.CrossEntropyLoss()\n",
        "optimizer = torch.optim.Adam(net.parameters(), lr=lr)\n",
        "device = torch.device(\"cuda\" if torch.cuda.is_available() else \"cpu\")\n",
        "net.to(device)\n",
        "loss_array=[]\n",
        "for n in range(num_epochs):\n",
        "        train_loss = 0\n",
        "        target_num = 0\n",
        "        net.train()\n",
        "        for batch_idx, (data, target) in enumerate(train_iter):\n",
        "            data, target = data.to(device), target.to(device)\n",
        "            loss = None\n",
        "            prediction= net(data)\n",
        "            loss = criterion(prediction,target)\n",
        "            optimizer.zero_grad()\n",
        "            loss.backward()\n",
        "            optimizer.step()\n",
        "            train_loss += loss.item() * target.size(0)\n",
        "            target_num += target.size(0)\n",
        "\n",
        "        train_loss /= target_num\n",
        "        loss_array.append(train_loss)\n",
        "        print('Epoch: {}, Training Loss: {:.4f}'.format(n+1, train_loss))\n",
        "\n",
        "plt.plot([i+1 for i in range(num_epochs)],loss_array)\n",
        "plt.xlabel(\"Epoch\")\n",
        "plt.ylabel(\"Train_loss\")\n",
        "### END OF YOUR CODE"
      ]
    },
    {
      "cell_type": "code",
      "execution_count": 30,
      "metadata": {
        "colab": {
          "base_uri": "https://localhost:8080/",
          "height": 35
        },
        "id": "1NqQN7YdDWCE",
        "outputId": "01fbdb2e-f960-4656-d882-8e9280ae2571"
      },
      "outputs": [
        {
          "data": {
            "application/vnd.google.colaboratory.intrinsic+json": {
              "type": "string"
            },
            "text/plain": [
              "'positive'"
            ]
          },
          "execution_count": 30,
          "metadata": {},
          "output_type": "execute_result"
        }
      ],
      "source": [
        "predict_sentiment(net, vocab, 'this movie is so great')"
      ]
    },
    {
      "cell_type": "code",
      "execution_count": 31,
      "metadata": {
        "colab": {
          "base_uri": "https://localhost:8080/",
          "height": 35
        },
        "id": "RYTBzqRxDWCE",
        "outputId": "33688f4e-f3a4-49e7-ec43-2d1c52249d3c"
      },
      "outputs": [
        {
          "data": {
            "application/vnd.google.colaboratory.intrinsic+json": {
              "type": "string"
            },
            "text/plain": [
              "'negative'"
            ]
          },
          "execution_count": 31,
          "metadata": {},
          "output_type": "execute_result"
        }
      ],
      "source": [
        "predict_sentiment(net, vocab, 'this movie is so bad')"
      ]
    },
    {
      "cell_type": "code",
      "execution_count": 32,
      "metadata": {
        "colab": {
          "base_uri": "https://localhost:8080/"
        },
        "id": "bvSxrh8tDWCE",
        "outputId": "efe7e6db-3f96-4deb-fb90-99f5deedfcef"
      },
      "outputs": [
        {
          "data": {
            "text/plain": [
              "(0.7124951037994517, 0.6980046047582502, 0.7276, 0.7064)"
            ]
          },
          "execution_count": 32,
          "metadata": {},
          "output_type": "execute_result"
        }
      ],
      "source": [
        "cal_metrics(net, test_iter, vocab)"
      ]
    },
    {
      "cell_type": "markdown",
      "metadata": {
        "id": "uF_50GwiDWCE"
      },
      "source": [
        "# Design Challenge (30 points)\n",
        "Now it's time to come up with your own model! You are free to decide what model you want to choose or what architecture you think is better for this task. You are also free to set all the hyperparameter for training (do consider the overfitting issue and the computing cost). From here we will see how important choosing/designing a better model architecture could be when building an NLP application in practice (however, there is no requirement for you to include such comparisons in your report).\n",
        "\n",
        "You are allowed to use external packages for this challenge, but we require that you fully understand the methods/techniques that you used, and you need to clearly explain such details in the submitted report. We will evaluate your system's performance on the held-out test set, which will only be released 48 hours before the deadline. Use your new system to generate the outputs. The system that achieves the highest F1 score will be announced as the winner for the challenge. We may perform further analysis/evaluations in case there is no clear winner based on the released test set.\n",
        "\n",
        "Let's summarize this challenge:"
      ]
    },
    {
      "cell_type": "markdown",
      "metadata": {
        "id": "zjMrw8Y8DWCE"
      },
      "source": [
        "(i) **[Model]** You are required to develop your own model for sentiment analysis, with no restrictions on the model architecture. You may choose to follow RNN/CNN structures or experiment with Transformer-based models. In your submitted report, you must provide a detailed explanation of your model along with the accompanying code. Additionally, you are required to submit your model so that we can reproduce your results.\n",
        "\n",
        "*_(10 points)_*\n",
        "\n",
        "(ii) **[Evaluation]** For a fair comparison, you must train your new model on the same dataset provided to you. After training, evaluate your model on the test set. You are required to report the **precision**, **recall**, **F1 scores**, and **accuracy** of your new model. Save the predicted outcome for the test set and include it in the submission.\n",
        "\n",
        "_Hint:_ You will be competing with other groups on the same test set. Groups with higher performance will receive more points. For instance, if your group ranks 1st among all groups, you will receive 15 points for this section.\n",
        "\n",
        "*_(15 points)_*\n",
        "\n",
        "(iii) **[Report]** You are required to submit a report for your model. The report must include, at a minimum, the following sections: Model Description, Training Settings (e.g., dataset, hyperparameters), Performance, Code to run the model, and a breakdown of how the work was divided among team members. You are encouraged to include any additional details you deem important. Instructions on how to run the code can either be included in a separate README file or integrated into the report, as long as they are clearly presented.\n",
        "\n",
        "Please provide a thorough explanation of the model or method you used for designing the new system, along with clear documentation on how to execute the code. We will review your code, and may request an interview if we have any questions about it.\n",
        "\n",
        "_Note:_ Reports, code, and README files that are of low quality or poorly written will be penalized, so please ensure they are well-organized and clearly formatted. If we are unable to reproduce your model or run your code, you will not receive any points for this challenge.\n",
        "\n",
        "*_(5 points)_*"
      ]
    },
    {
      "cell_type": "markdown",
      "metadata": {
        "id": "PmeBhLnSDWCF"
      },
      "source": [
        "# Start your model in a different .py file with a README explaination."
      ]
    }
  ],
  "metadata": {
    "accelerator": "GPU",
    "colab": {
      "gpuType": "T4",
      "provenance": []
    },
    "kernelspec": {
      "display_name": "Python 3",
      "name": "python3"
    },
    "language_info": {
      "codemirror_mode": {
        "name": "ipython",
        "version": 3
      },
      "file_extension": ".py",
      "mimetype": "text/x-python",
      "name": "python",
      "nbconvert_exporter": "python",
      "pygments_lexer": "ipython3",
      "version": "3.11.3"
    }
  },
  "nbformat": 4,
  "nbformat_minor": 0
}
