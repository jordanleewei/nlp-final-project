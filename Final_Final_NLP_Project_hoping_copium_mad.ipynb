{
  "cells": [
    {
      "cell_type": "markdown",
      "metadata": {
        "id": "eIRhc7drd8AY"
      },
      "source": [
        "# 50.040 Natural Language Processing (Fall 2024) Final Project (100 Points)\n",
        "\n",
        "**DUE DATE: 13 December 2024**\n",
        "\n",
        "Final project will be graded by Chen Huang"
      ]
    },
    {
      "cell_type": "markdown",
      "metadata": {
        "id": "FsCU5Q_6d8Ac"
      },
      "source": [
        "\n",
        "# Group Information (Fill before you start)\n",
        "\n",
        "**Group Name:** Perplexity\n",
        "\n",
        "**Name(STUDNET ID) (2-3 person):**  \n",
        "Jordan Lee Wei 1005906\n",
        "Shwetha Iyer 1006308\n",
        "Anutham Mukunthan 1006202\n",
        "\n",
        "**Please also rename the final submitted pdf as ``finalproject_[GROUP_NAME].pdf``**\n",
        "\n",
        "**-1 points if info not filled or file name not adjusted before submission, -100 points if you copy other's answer. We encourage discussion, but please do not copy without thinking.**"
      ]
    },
    {
      "cell_type": "markdown",
      "metadata": {
        "id": "bDOUuC7-CdX-"
      },
      "source": [
        "## [!] Please read this if your computer does not have GPUs.\n",
        "### Free GPU Resources\n",
        "We suggest that you run neural language models on machines with GPU(s). Google provides the free online platform [Colaboratory](https://colab.research.google.com/notebooks/welcome.ipynb), a research tool for machine learning education and research. It’s a Jupyter notebook environment that requires no setup to use as common packages have been  pre-installed. Google users can have access to a Tesla T4 GPU (approximately 15G memory). Note that when you connect to a GPU-based VM runtime, you are given a maximum of 12 hours at a time on the VM.\n",
        "\n",
        "Colab is web-based, fast and convinient. You can simply upload this notebook and run it online. For the database needed in this task, you can download it and upload to colab OR you can save it in your google drive and link it with the colab.\n",
        "\n",
        "It is convenient to upload local Jupyter Notebook files and data to Colab, please refer to the [tutorial](https://colab.research.google.com/notebooks/io.ipynb).\n",
        "\n",
        "In addition, Microsoft also provides the online platform [Azure Notebooks](https://notebooks.azure.com/help/introduction) for research of data science and machine learning, there are free trials for new users with credits."
      ]
    },
    {
      "cell_type": "markdown",
      "metadata": {
        "id": "V0iF5uWcCdXV"
      },
      "source": [
        "# Instructions\n",
        "Please read the following instructions carefully before you begin this project:\n",
        "\n",
        "- This is a group project. You are allowed to form groups in any way you like, but each group must consist of either 2 or 3 people. Please submit your group information to eDimension as soon as possible if you have not yet done so (the deadline was 11th October 2024).\n",
        "\n",
        "- Each group should submit code along with a report summarizing your work, and provide clear instructions on how to run your code. Additionally, please submit your system's outputs. The output should be in the same column format as the training set.\n",
        "\n",
        "- You are given **8** weeks to work on the project. We understand this is a busy time during your final term, so Week **13** will be reserved as the \"Final Project Week\" for you to focus on the project (i.e., there will be no classes that week). Please plan and manage your time well.\n",
        "\n",
        "- Please use Python to complete this project."
      ]
    },
    {
      "cell_type": "markdown",
      "metadata": {
        "id": "kV-3IZvrDWB5"
      },
      "source": [
        "# Project Summary\n",
        "Welcome to the design project for our natural language processing (NLP) course offered at SUTD!\n",
        "\n",
        "In this project, you will undertake an NLP task in _sentiment analysis_. We will begin by guiding you through data understanding, pre-processing, and instructing you to construct RNN and CNN models for the task. Afterward, you are encouraged to develop your own model to improve the results. The final test set will be released on **11 December 2024 at 5pm** (48 hours before the final project deadline). You will use your own system to generate the outputs. The system with the highest F1 score will be announced as the winner for each challenge. If no clear winner emerges from the test set results, further analysis or evaluations may be conducted."
      ]
    },
    {
      "cell_type": "markdown",
      "metadata": {
        "id": "F5wC4lqKCdXW"
      },
      "source": [
        "# Task Introduction and Data pre-processing (20 points)\n",
        "## Sentiment Analysis\n",
        "With the proliferation of online social media and review platforms, vast amounts of opinionated data have been generated, offering immense potential to support decision-making processes. Sentiment analysis examines people's sentiments expressed in text, such as product reviews, blog comments, and forum discussions. It finds wide applications in diverse fields, including politics (e.g., analyzing public sentiment towards policies), finance (e.g., evaluating market sentiments), and marketing (e.g., product research and brand management).\n",
        "\n",
        "Since sentiments can often be categorized into discrete polarities or scales (e.g., positive or negative), sentiment analysis can be framed as a text classification task. This task involves transforming text sequences of varying lengths into fixed-length categorical labels.\n",
        "\n",
        "## Data pre-processing\n",
        "In this project, we will utilize [Stanford's large movie review dataset](https://ai.stanford.edu/%7Eamaas/data/sentiment/) for sentiment analysis. The dataset consists of a training set and a testing set, each containing 25,000 movie reviews sourced from IMDb. Both datasets have an equal number of \"positive\" and \"negative\" labels, representing different sentiment polarities. Please download and extract this IMDb review dataset in the path `../data/aclImdb`.\n",
        "\n",
        "*Hints*: While the following instructions are based on a split of 25,000 for training and 25,000 for testing, you are free to choose your own dataset split, as we will provide a separate test set for the final evaluation. However, any changes you make to the default split must be clearly indicated in your report. Failure to explicitly mention such modifications may result in a penalty.\n",
        "\n"
      ]
    },
    {
      "cell_type": "code",
      "execution_count": 1,
      "metadata": {
        "id": "H-dYvJEjDWB6"
      },
      "outputs": [],
      "source": [
        "import os\n",
        "import torch\n",
        "from torch import nn\n",
        "#!pip install d2l\n",
        "from d2l import torch as d2l # You can skip this if you have trouble with this package, all d2l-related codes can be replaced by torch functions."
      ]
    },
    {
      "cell_type": "code",
      "source": [
        "device = torch.device(\"cuda\" if torch.cuda.is_available() else \"cpu\")\n",
        "print(device)"
      ],
      "metadata": {
        "id": "95LkvitaOkJG",
        "colab": {
          "base_uri": "https://localhost:8080/"
        },
        "outputId": "787c3682-0865-40cc-d06e-e6c5a255d676"
      },
      "execution_count": 2,
      "outputs": [
        {
          "output_type": "stream",
          "name": "stdout",
          "text": [
            "cuda\n"
          ]
        }
      ]
    },
    {
      "cell_type": "code",
      "execution_count": 3,
      "metadata": {
        "id": "FRfpaQpDDWB6"
      },
      "outputs": [],
      "source": [
        "# Skip this if you have already downloaded the dataset\n",
        "d2l.DATA_HUB['aclImdb'] = (d2l.DATA_URL + 'aclImdb_v1.tar.gz',\n",
        "                          '01ada507287d82875905620988597833ad4e0903')\n",
        "\n",
        "data_dir = d2l.download_extract('aclImdb', 'aclImdb')"
      ]
    },
    {
      "cell_type": "markdown",
      "metadata": {
        "id": "TkdlOfiKDWB7"
      },
      "source": [
        "# Questions"
      ]
    },
    {
      "cell_type": "markdown",
      "metadata": {
        "id": "G0vxL-WpCdXX"
      },
      "source": [
        "### Question 1 [code] **(5 points)**\n",
        "Complete the function ``read_imdb``, which reads the IMDb review dataset text sequences and labels. Then, run the sanity check cell to check your implementation."
      ]
    },
    {
      "cell_type": "code",
      "execution_count": 4,
      "metadata": {
        "id": "TOyoT-QiCdXY",
        "cellView": "code"
      },
      "outputs": [],
      "source": [
        "#@save\n",
        "def read_imdb(data_dir, is_train):\n",
        "    \"\"\"Read the IMDb review dataset text sequences and labels.\"\"\"\n",
        "    data = []\n",
        "    labels = []\n",
        "    folder = 'train' if is_train else 'test'\n",
        "    for label in ['pos', 'neg']:\n",
        "        labeled_folder = os.path.join(data_dir, folder, label)\n",
        "        for filename in os.listdir(labeled_folder):\n",
        "            if filename.endswith('.txt'):\n",
        "                with open(os.path.join(labeled_folder, filename), 'r', encoding='utf-8') as f:\n",
        "                    review = f.read()\n",
        "                    data.append(review)\n",
        "                    labels.append(1 if label == 'pos' else 0)\n",
        "    return data, labels\n"
      ]
    },
    {
      "cell_type": "code",
      "execution_count": 5,
      "metadata": {
        "id": "yiXx0DosDWB7",
        "colab": {
          "base_uri": "https://localhost:8080/"
        },
        "outputId": "f05a7760-4634-4c4a-f12b-9d7951d44234"
      },
      "outputs": [
        {
          "output_type": "stream",
          "name": "stdout",
          "text": [
            "# trainings: 25000\n",
            "label: 1 review: Since was only a toddler when this show originally aired I j\n",
            "label: 1 review: When you see this movie you begin to realise what a drastica\n",
            "label: 1 review: I didn't know what to except so I think it was a lot better \n"
          ]
        }
      ],
      "source": [
        "# Sanity check\n",
        "train_data = read_imdb(data_dir, is_train=True)\n",
        "\n",
        "print('# trainings:', len(train_data[0]))\n",
        "for x, y in zip(train_data[0][:3], train_data[1][:3]):\n",
        "    print('label:', y, 'review:', x[:60])"
      ]
    },
    {
      "cell_type": "markdown",
      "metadata": {
        "id": "_Ur52HVMDWB7"
      },
      "source": [
        "### Question 2 [code] **(5 points)**\n",
        "Treating each word as a token and filtering out words that appear less than 5 times, we create a vocabulary out of the training dataset. After tokenization, please plot the histogram of review lengths in tokens. (Hint: you can use ``matplotlib`` package to draw the histogram.) Then, run the sanity check cell to check your implementation."
      ]
    },
    {
      "cell_type": "code",
      "execution_count": 6,
      "metadata": {
        "id": "Cps87t_JDWB8"
      },
      "outputs": [],
      "source": [
        "train_tokens = d2l.tokenize(train_data[0], token='word')\n",
        "vocab = d2l.Vocab(train_tokens, min_freq=5, reserved_tokens=['<pad>'])"
      ]
    },
    {
      "cell_type": "code",
      "execution_count": 7,
      "metadata": {
        "id": "1DBgOQT0DWB8",
        "colab": {
          "base_uri": "https://localhost:8080/",
          "height": 449
        },
        "outputId": "abdb7bdf-b15e-482f-d28a-6eb87906a18c"
      },
      "outputs": [
        {
          "output_type": "display_data",
          "data": {
            "text/plain": [
              "<Figure size 640x480 with 1 Axes>"
            ],
            "image/png": "[encoded data removed]"
          },
          "metadata": {}
        }
      ],
      "source": [
        "# xlabel: # tokens per review\n",
        "# ylabel: count\n",
        "import matplotlib.pyplot as plt\n",
        "\n",
        "review_lengths = [len(tokens) for tokens in train_tokens]\n",
        "plt.hist(review_lengths, bins=range(0, 1000, 50))\n",
        "plt.xlabel('# tokens per review')\n",
        "plt.ylabel('count')\n",
        "plt.show()"
      ]
    },
    {
      "cell_type": "code",
      "execution_count": 8,
      "metadata": {
        "id": "NB9aktRODWB8",
        "colab": {
          "base_uri": "https://localhost:8080/"
        },
        "outputId": "c3eede8a-df03-48ba-bb29-ad68dd2cf7e8"
      },
      "outputs": [
        {
          "output_type": "stream",
          "name": "stdout",
          "text": [
            "torch.Size([25000, 500])\n"
          ]
        }
      ],
      "source": [
        "num_steps = 500  # sequence length\n",
        "train_features = torch.tensor([d2l.truncate_pad(\n",
        "    vocab[line], num_steps, vocab['<pad>']) for line in train_tokens])\n",
        "print(train_features.shape)"
      ]
    },
    {
      "cell_type": "markdown",
      "metadata": {
        "id": "pAAeu3JZDWB8"
      },
      "source": [
        "### Question 3 [code] **(5 points)**\n",
        "Create data iterator ``train_iter``, at each iteration, a minibatch of examples are returned. Let's set the mini-batch size to 64.\n",
        "\n"
      ]
    },
    {
      "cell_type": "code",
      "execution_count": 9,
      "metadata": {
        "id": "dQvUAcOADWB8",
        "colab": {
          "base_uri": "https://localhost:8080/"
        },
        "outputId": "870627fe-b994-48dd-8511-a267b060598d"
      },
      "outputs": [
        {
          "output_type": "stream",
          "name": "stdout",
          "text": [
            "X: torch.Size([64, 500]) , y: torch.Size([64])\n",
            "# batches: 391\n"
          ]
        }
      ],
      "source": [
        "from torch.utils.data import TensorDataset, DataLoader\n",
        "\n",
        "batch_size = 64\n",
        "train_set = TensorDataset(train_features, torch.tensor(train_data[1]))\n",
        "train_iter = DataLoader(train_set, batch_size=batch_size, shuffle=True)\n",
        "\n",
        "\n",
        "for X, y in train_iter:\n",
        "    print('X:', X.shape, ', y:', y.shape)\n",
        "    break\n",
        "print('# batches:', len(train_iter))"
      ]
    },
    {
      "cell_type": "markdown",
      "metadata": {
        "id": "PVpoDgU7CdXb"
      },
      "source": [
        "### Question 4 [code] **(5 points)**\n",
        "Finally, wrap up the above steps into the ``load_data_imdb`` function. It returns training and test data iterators and the vocabulary of the IMDb review dataset.\n"
      ]
    },
    {
      "cell_type": "code",
      "execution_count": 10,
      "metadata": {
        "id": "gkxmzsz0DWB8",
        "cellView": "code"
      },
      "outputs": [],
      "source": [
        "#@save\n",
        "def load_data_imdb(batch_size, num_steps=500):\n",
        "    \"\"\"Return data iterators and the vocabulary of the IMDb review dataset.\"\"\"\n",
        "    data_dir = '../data/aclImdb'\n",
        "    train_data = read_imdb(data_dir, is_train=True)\n",
        "    test_data = read_imdb(data_dir, is_train=False)\n",
        "    train_tokens = d2l.tokenize(train_data[0], token='word')\n",
        "    test_tokens = d2l.tokenize(test_data[0], token='word')\n",
        "    vocab = d2l.Vocab(train_tokens, min_freq=5, reserved_tokens=['<pad>'])\n",
        "    train_features = torch.tensor([d2l.truncate_pad(\n",
        "        vocab[line], num_steps, vocab['<pad>']) for line in train_tokens])\n",
        "    test_features = torch.tensor([d2l.truncate_pad(\n",
        "        vocab[line], num_steps, vocab['<pad>']) for line in test_tokens])\n",
        "    train_iter = DataLoader(TensorDataset(train_features, torch.tensor(train_data[1])), batch_size=batch_size, shuffle=True)\n",
        "    test_iter = DataLoader(TensorDataset(test_features, torch.tensor(test_data[1])), batch_size=batch_size)\n",
        "    return train_iter, test_iter, vocab"
      ]
    },
    {
      "cell_type": "markdown",
      "metadata": {
        "id": "2kAezpJ9CdXd"
      },
      "source": [
        "# Using RNN for sentiment analysis (30 points)\n",
        "Similar to word similarity and analogy tasks, pre-trained word vectors can also be applied to sentiment analysis. Given that the IMDb review dataset is relatively small, using text representations pre-trained on large-scale corpora can help mitigate model overfitting. Each token can be represented using the pre-trained GloVe model, and these token embeddings can be fed into a multilayer bidirectional RNN to generate a sequence representation of the text, which will then be transformed into sentiment analysis outputs. Later, we will explore an alternative architectural approach for the same downstream task."
      ]
    },
    {
      "cell_type": "markdown",
      "metadata": {
        "id": "kMVKiJnmDWB8"
      },
      "source": [
        "### Question 5 [code] **(10 points)**\n",
        "In text classification tasks, such as sentiment analysis, a varying-length text sequence is transformed into fixed-length categorical labels. Following the instructions, please complete ``BiRNN`` class, each token in a text sequence receives its individual pre-trained GloVe representation through the embedding layer (``self.embedding``). The entire sequence is then encoded by a bidirectional RNN (``self.encoder``). Specifically, the hidden states from the last layer of the bidirectional LSTM, at both the initial and final time steps, are concatenated to form the representation of the text sequence. This representation is subsequently passed through a fully connected layer (``self.decoder``) to produce the final output categories, which in this case are \"positive\" and \"negative\"."
      ]
    },
    {
      "cell_type": "code",
      "execution_count": null,
      "metadata": {
        "id": "6Xjr5cpFDWB8"
      },
      "outputs": [],
      "source": [
        "batch_size = 64\n",
        "train_iter, test_iter, vocab = load_data_imdb(batch_size)"
      ]
    },
    {
      "cell_type": "code",
      "execution_count": null,
      "metadata": {
        "id": "IjfibjiyDWB8"
      },
      "outputs": [],
      "source": [
        "class BiRNN(nn.Module):\n",
        "    def __init__(self, vocab_size, embed_size, num_hiddens,\n",
        "                 num_layers, **kwargs):\n",
        "        super(BiRNN, self).__init__(**kwargs)\n",
        "        self.embedding = nn.Embedding(vocab_size, embed_size)\n",
        "        # Set `bidirectional` to True to get a bidirectional RNN\n",
        "        self.encoder = nn.LSTM(embed_size, num_hiddens, num_layers=num_layers,\n",
        "                                bidirectional=True)\n",
        "        self.decoder = nn.Linear(4 * num_hiddens, 2)\n",
        "\n",
        "    def forward(self, inputs):\n",
        "        # The shape of `inputs` is (batch size, no. of time steps). Because\n",
        "        # LSTM requires its input's first dimension to be the temporal\n",
        "        # dimension, the input is transposed before obtaining token\n",
        "        # representations. The output shape is (no. of time steps, batch size,\n",
        "        # word vector dimension)\n",
        "\n",
        "        # Returns hidden states of the last hidden layer at different time\n",
        "        # steps. The shape of `outputs` is (no. of time steps, batch size,\n",
        "        # 2 * no. of hidden units)\n",
        "\n",
        "        # Concatenate the hidden states at the initial and final time steps as\n",
        "        # the input of the fully connected layer. Its shape is (batch size,\n",
        "        # 4 * no. of hidden units)\n",
        "\n",
        "        ### YOUR CODE HERE\n",
        "        embeddings=self.embedding(inputs)\n",
        "        embeddings=embeddings.permute(1,0,2)\n",
        "        outputs, _ = self.encoder(embeddings)\n",
        "        encoding = torch.cat((outputs[0], outputs[-1]), dim=1)\n",
        "        outs = self.decoder(encoding)\n",
        "        ### END OF YOUR CODE\n",
        "\n",
        "        return outs"
      ]
    },
    {
      "cell_type": "markdown",
      "metadata": {
        "id": "f_x9vKYCDWB9"
      },
      "source": [
        "Let’s construct a bidirectional RNN with two hidden layers to represent single text for sentiment analysis."
      ]
    },
    {
      "cell_type": "code",
      "execution_count": null,
      "metadata": {
        "colab": {
          "base_uri": "https://localhost:8080/"
        },
        "id": "gfzmNkV8DWB9",
        "outputId": "3e676406-4dd3-4dbf-f520-253bae6c1374"
      },
      "outputs": [
        {
          "output_type": "execute_result",
          "data": {
            "text/plain": [
              "BiRNN(\n",
              "  (embedding): Embedding(49347, 100)\n",
              "  (encoder): LSTM(100, 100, num_layers=2, bidirectional=True)\n",
              "  (decoder): Linear(in_features=400, out_features=2, bias=True)\n",
              ")"
            ]
          },
          "metadata": {},
          "execution_count": 13
        }
      ],
      "source": [
        "embed_size, num_hiddens, num_layers, devices = 100, 100, 2, d2l.try_all_gpus()\n",
        "net = BiRNN(len(vocab), embed_size, num_hiddens, num_layers)\n",
        "\n",
        "def init_weights(module):\n",
        "    if type(module) == nn.Linear:\n",
        "        nn.init.xavier_uniform_(module.weight)\n",
        "    if type(module) == nn.LSTM:\n",
        "        for param in module._flat_weights_names:\n",
        "            if \"weight\" in param:\n",
        "                nn.init.xavier_uniform_(module._parameters[param])\n",
        "net.apply(init_weights)"
      ]
    },
    {
      "cell_type": "markdown",
      "metadata": {
        "id": "N405mT2RDWB9"
      },
      "source": [
        "### Loading Pretrained Word Vectors"
      ]
    },
    {
      "cell_type": "code",
      "execution_count": null,
      "metadata": {
        "colab": {
          "base_uri": "https://localhost:8080/"
        },
        "id": "Opb3-H5WDWB9",
        "outputId": "cc9a121e-6932-4ef5-aded-f08ed5134ccd"
      },
      "outputs": [
        {
          "output_type": "stream",
          "name": "stdout",
          "text": [
            "Downloading ../data/glove.6B.100d.zip from http://d2l-data.s3-accelerate.amazonaws.com/glove.6B.100d.zip...\n"
          ]
        },
        {
          "output_type": "execute_result",
          "data": {
            "text/plain": [
              "torch.Size([49347, 100])"
            ]
          },
          "metadata": {},
          "execution_count": 14
        }
      ],
      "source": [
        "glove_embedding = d2l.TokenEmbedding('glove.6b.100d')\n",
        "embeds = glove_embedding[vocab.idx_to_token]\n",
        "embeds.shape # Print the shape of the vectors for all the tokens in the vocabulary."
      ]
    },
    {
      "cell_type": "markdown",
      "metadata": {
        "id": "nAae8BQFDWB9"
      },
      "source": [
        "We use these pretrained word vectors to represent tokens in the reviews and will not update these vectors during training"
      ]
    },
    {
      "cell_type": "code",
      "execution_count": null,
      "metadata": {
        "id": "PZMaK2lIDWB9"
      },
      "outputs": [],
      "source": [
        "net.embedding.weight.data.copy_(embeds)\n",
        "net.embedding.weight.requires_grad = False"
      ]
    },
    {
      "cell_type": "markdown",
      "metadata": {
        "id": "kK77jylZDWB9"
      },
      "source": [
        "### Question 6 [code] **(10 points)**\n",
        "After loading the pretrained word vectors, we can now start to train the model. Please use ``Adam`` optimizer and ``CrossEntropyLoss`` for training and draw a graph about your training loss, training acc and testing acc."
      ]
    },
    {
      "cell_type": "code",
      "execution_count": null,
      "metadata": {
        "scrolled": true,
        "colab": {
          "base_uri": "https://localhost:8080/",
          "height": 556
        },
        "id": "qgito4UzDWB9",
        "outputId": "63f2db56-3e95-4b42-c5b7-6155ed1ff3d8"
      },
      "outputs": [
        {
          "output_type": "stream",
          "name": "stdout",
          "text": [
            "Epoch: 1, Training Loss: 0.6335\n",
            "Epoch: 2, Training Loss: 0.4272\n",
            "Epoch: 3, Training Loss: 0.3654\n",
            "Epoch: 4, Training Loss: 0.3407\n",
            "Epoch: 5, Training Loss: 0.3122\n"
          ]
        },
        {
          "output_type": "execute_result",
          "data": {
            "text/plain": [
              "Text(0, 0.5, 'Train_loss')"
            ]
          },
          "metadata": {},
          "execution_count": 16
        },
        {
          "output_type": "display_data",
          "data": {
            "text/plain": [
              "<Figure size 640x480 with 1 Axes>"
            ],
            "image/png": "[encoded data removed]"
          },
          "metadata": {}
        }
      ],
      "source": [
        "lr, num_epochs = 0.01, 5\n",
        "### YOUR CODE HERE\n",
        "criterion = nn.CrossEntropyLoss()\n",
        "optimizer = torch.optim.Adam(net.parameters(), lr=lr)\n",
        "device = torch.device(\"cuda\" if torch.cuda.is_available() else \"cpu\")\n",
        "net.to(device)\n",
        "loss_array=[]\n",
        "for n in range(num_epochs):\n",
        "        train_loss = 0\n",
        "        target_num = 0\n",
        "        net.train()\n",
        "        for batch_idx, (data, target) in enumerate(train_iter):\n",
        "            data, target = data.to(device), target.to(device)\n",
        "            loss = None\n",
        "            prediction= net(data)\n",
        "            loss = criterion(prediction,target)\n",
        "            optimizer.zero_grad()\n",
        "            loss.backward()\n",
        "            optimizer.step()\n",
        "            train_loss += loss.item() * target.size(0)\n",
        "            target_num += target.size(0)\n",
        "\n",
        "        train_loss /= target_num\n",
        "        loss_array.append(train_loss)\n",
        "        print('Epoch: {}, Training Loss: {:.4f}'.format(n+1, train_loss))\n",
        "\n",
        "plt.plot([i+1 for i in range(num_epochs)],loss_array)\n",
        "plt.xlabel(\"Epoch\")\n",
        "plt.ylabel(\"Train_loss\")\n",
        "### END OF YOUR CODE"
      ]
    },
    {
      "cell_type": "markdown",
      "metadata": {
        "id": "xLlEW-qXDWB9"
      },
      "source": [
        "### Question 7 [code] **(10 points)**\n",
        "Once you have completed the training, it's time to evaluate your model's performance. Implement the function ``predict_sentiment`` to predict the sentiment of a text sequence using the trained model ``net``. Next, define the function ``cal_metrics`` to assess your model on the test set by calculating both accuracy and the F1-score, including precision and recall. Finally, print out the evaluation results. Save the prediction results for each test sample and submit it in the zip file."
      ]
    },
    {
      "cell_type": "code",
      "execution_count": null,
      "metadata": {
        "id": "6TooAOCcDWB9"
      },
      "outputs": [],
      "source": [
        "#@save\n",
        "def predict_sentiment(net, vocab, sequence):\n",
        "    \"\"\"Predict the sentiment of a text sequence.\"\"\"\n",
        "    ### YOUR CODE HERE\n",
        "    indices = [vocab[i] for i in sequence.split()]\n",
        "    device = torch.device(\"cuda\" if torch.cuda.is_available() else \"cpu\")\n",
        "    with torch.no_grad():\n",
        "      prediction=net(torch.tensor(indices).unsqueeze(0).to(device))\n",
        "    label = torch.argmax(prediction, dim=1).item()\n",
        "    ### END OF YOUR CODE\n",
        "    return 'positive' if label == 1 else 'negative'"
      ]
    },
    {
      "cell_type": "code",
      "execution_count": null,
      "metadata": {
        "colab": {
          "base_uri": "https://localhost:8080/",
          "height": 35
        },
        "id": "5s6JEAdcDWB9",
        "outputId": "3daa55b6-cac3-4991-9d3f-2686a63043c3"
      },
      "outputs": [
        {
          "output_type": "execute_result",
          "data": {
            "text/plain": [
              "'positive'"
            ],
            "application/vnd.google.colaboratory.intrinsic+json": {
              "type": "string"
            }
          },
          "metadata": {},
          "execution_count": 18
        }
      ],
      "source": [
        "predict_sentiment(net, vocab, 'this movie is so great')"
      ]
    },
    {
      "cell_type": "code",
      "execution_count": null,
      "metadata": {
        "colab": {
          "base_uri": "https://localhost:8080/",
          "height": 35
        },
        "id": "-r6aNdqgDWB9",
        "outputId": "f5465102-2b65-445d-e85b-7f3bf9cfb831"
      },
      "outputs": [
        {
          "output_type": "execute_result",
          "data": {
            "text/plain": [
              "'negative'"
            ],
            "application/vnd.google.colaboratory.intrinsic+json": {
              "type": "string"
            }
          },
          "metadata": {},
          "execution_count": 19
        }
      ],
      "source": [
        "predict_sentiment(net, vocab, 'this movie is so bad')"
      ]
    },
    {
      "cell_type": "code",
      "execution_count": null,
      "metadata": {
        "id": "wqJ6lLEwDWB-"
      },
      "outputs": [],
      "source": [
        "def cal_metrics(net,test_iter): # you can define what input you need in this function\n",
        "    # Rember to output your prediction results and submit together in the zip file\n",
        "    # You can do it within this function, or you create a new function to save the output, both methods are fine\n",
        "    ### YOUR CODE HERE\n",
        "    device = torch.device(\"cuda\" if torch.cuda.is_available() else \"cpu\")\n",
        "    net.to(device)\n",
        "    tp, tn, fp, fn = 0, 0, 0, 0\n",
        "    for batch_idx, (data, target) in enumerate(test_iter):\n",
        "        data, target = data.to(device), target.to(device)\n",
        "        with torch.no_grad():\n",
        "            prediction = net(data)\n",
        "        label = torch.argmax(prediction, dim=1)\n",
        "\n",
        "        tp += ((label == 1) & (target == 1)).sum().item()\n",
        "        tn += ((label == 0) & (target == 0)).sum().item()\n",
        "        fp += ((label == 1) & (target == 0)).sum().item()\n",
        "        fn += ((label == 0) & (target == 1)).sum().item()\n",
        "\n",
        "    accuracy = (tp+tn)/(tp+tn+fp+fn)\n",
        "    precision = tp/(tp+fp)\n",
        "    recall = tp/(tp+fn)\n",
        "    F1_Score = 2*(precision*recall)/(precision+recall)\n",
        "\n",
        "    ### END OF YOUR CODE\n",
        "\n",
        "    return F1_Score, precision, recall, accuracy"
      ]
    },
    {
      "cell_type": "code",
      "execution_count": null,
      "metadata": {
        "colab": {
          "base_uri": "https://localhost:8080/"
        },
        "id": "5kZAMGWzDWB-",
        "outputId": "205f029b-9271-472a-c4d8-ec3676c9e482"
      },
      "outputs": [
        {
          "output_type": "execute_result",
          "data": {
            "text/plain": [
              "(0.8556250737811357, 0.841942228761713, 0.86976, 0.85324)"
            ]
          },
          "metadata": {},
          "execution_count": 21
        }
      ],
      "source": [
        "cal_metrics(net, test_iter)"
      ]
    },
    {
      "cell_type": "markdown",
      "metadata": {
        "id": "g6ECAErUDWB-"
      },
      "source": [
        "# Using CNN for sentiment analysis (20 points)\n",
        "Although CNNs were originally designed for computer vision, they have been widely adopted in natural language processing as well. Conceptually, a text sequence can be viewed as a one-dimensional image, allowing one-dimensional CNNs to capture local features, such as n-grams, within the text. We will use the textCNN model to demonstrate how to design a CNN architecture for representing a single text.\n",
        "\n",
        "Using one-dimensional convolution and max-over-time pooling, the textCNN model takes individual pre-trained token representations as input, then extracts and transforms these sequence representations for downstream tasks.\n",
        "\n",
        "For a single text sequence with $n$ tokens represented by $d$-dimensional vectors, the width, height, and number of channels of the input tensor are $n$, $1$, and $d$, respectively. The textCNN model processes the input as follows:\n",
        "\n",
        "1. Define multiple one-dimensional convolutional kernels and apply convolution operations on the inputs. Convolution kernels with varying widths capture local features across different numbers of adjacent tokens.\n",
        "2. Apply max-over-time pooling to all output channels, then concatenate the resulting scalar outputs into a vector.\n",
        "3. Pass the concatenated vector through a fully connected layer to generate the output categories. Dropout can be applied to reduce overfitting."
      ]
    },
    {
      "cell_type": "markdown",
      "metadata": {
        "id": "8OKb3ZpSDWCD"
      },
      "source": [
        "### Question 8 [code] **(10 points)**\n",
        "Implement the ``textCNN`` model class. Compared with the bidirectional RNN model in Section 2, besides replacing recurrent layers with convolutional layers, we also use two embedding layers: one with trainable weights and the other with fixed weights."
      ]
    },
    {
      "cell_type": "code",
      "execution_count": null,
      "metadata": {
        "id": "QHk-CUsFDWCE"
      },
      "outputs": [],
      "source": [
        "batch_size = 64\n",
        "train_iter, test_iter, vocab = d2l.load_data_imdb(batch_size)"
      ]
    },
    {
      "cell_type": "code",
      "execution_count": null,
      "metadata": {
        "id": "NKD2zjkYDWCE"
      },
      "outputs": [],
      "source": [
        "class TextCNN(nn.Module):\n",
        "    def __init__(self, vocab_size, embed_size, kernel_sizes, num_channels,\n",
        "                 **kwargs):\n",
        "        super(TextCNN, self).__init__(**kwargs)\n",
        "        self.embedding = nn.Embedding(vocab_size, embed_size)\n",
        "        # The embedding layer not to be trained\n",
        "        self.constant_embedding = nn.Embedding(vocab_size, embed_size)\n",
        "        self.dropout = nn.Dropout(0.5)\n",
        "        self.decoder = nn.Linear(sum(num_channels), 2)\n",
        "        # The max-over-time pooling layer has no parameters, so this instance\n",
        "        # can be shared\n",
        "        self.pool = nn.AdaptiveAvgPool1d(1)\n",
        "        self.relu = nn.ReLU()\n",
        "        # Create multiple one-dimensional convolutional layers\n",
        "        self.convs = nn.ModuleList()\n",
        "        for c, k in zip(num_channels, kernel_sizes):\n",
        "            self.convs.append(nn.Conv1d(2 * embed_size, c, k))\n",
        "\n",
        "    def forward(self, inputs):\n",
        "        # Concatenate two embedding layer outputs with shape (batch size, no.\n",
        "        # of tokens, token vector dimension) along vectors\n",
        "\n",
        "        # Per the input format of one-dimensional convolutional layers,\n",
        "        # rearrange the tensor so that the second dimension stores channels\n",
        "\n",
        "        # For each one-dimensional convolutional layer, after max-over-time\n",
        "        # pooling, a tensor of shape (batch size, no. of channels, 1) is\n",
        "        # obtained. Remove the last dimension and concatenate along channels\n",
        "\n",
        "        ### YOUR CODE HERE\n",
        "        emb1=self.embedding(inputs)\n",
        "        emb2=self.constant_embedding(inputs)\n",
        "        conc_emb=torch.cat((emb1, emb2), dim=-1)\n",
        "        conc_emb = conc_emb.permute(0, 2, 1)\n",
        "        conv_pooled_outputs = []\n",
        "        for conv in self.convs:\n",
        "            conv_out = conv(conc_emb)\n",
        "            pooled = torch.max(conv_out, dim=2, keepdim=True)[0]\n",
        "            conv_pooled_outputs.append(pooled)\n",
        "        outputs = torch.cat(conv_pooled_outputs, dim=1)\n",
        "        outputs = outputs.squeeze(-1)\n",
        "        ### END OF YOUR CODE\n",
        "\n",
        "        return outputs"
      ]
    },
    {
      "cell_type": "code",
      "execution_count": null,
      "metadata": {
        "id": "ADJI1ZfzDWCE",
        "colab": {
          "base_uri": "https://localhost:8080/"
        },
        "outputId": "284be3c4-3e3a-4b07-fd99-aa0ba62b81e9"
      },
      "outputs": [
        {
          "output_type": "execute_result",
          "data": {
            "text/plain": [
              "TextCNN(\n",
              "  (embedding): Embedding(49346, 100)\n",
              "  (constant_embedding): Embedding(49346, 100)\n",
              "  (dropout): Dropout(p=0.5, inplace=False)\n",
              "  (decoder): Linear(in_features=300, out_features=2, bias=True)\n",
              "  (pool): AdaptiveAvgPool1d(output_size=1)\n",
              "  (relu): ReLU()\n",
              "  (convs): ModuleList(\n",
              "    (0): Conv1d(200, 100, kernel_size=(3,), stride=(1,))\n",
              "    (1): Conv1d(200, 100, kernel_size=(4,), stride=(1,))\n",
              "    (2): Conv1d(200, 100, kernel_size=(5,), stride=(1,))\n",
              "  )\n",
              ")"
            ]
          },
          "metadata": {},
          "execution_count": 24
        }
      ],
      "source": [
        "embed_size, kernel_sizes, nums_channels = 100, [3, 4, 5], [100, 100, 100]\n",
        "devices = d2l.try_all_gpus()\n",
        "net = TextCNN(len(vocab), embed_size, kernel_sizes, nums_channels)\n",
        "\n",
        "def init_weights(module):\n",
        "    if type(module) in (nn.Linear, nn.Conv1d):\n",
        "        nn.init.xavier_uniform_(module.weight)\n",
        "\n",
        "net.apply(init_weights)"
      ]
    },
    {
      "cell_type": "code",
      "execution_count": null,
      "metadata": {
        "id": "LYA_5R0uDWCE"
      },
      "outputs": [],
      "source": [
        "glove_embedding = d2l.TokenEmbedding('glove.6b.100d')\n",
        "embeds = glove_embedding[vocab.idx_to_token]\n",
        "net.embedding.weight.data.copy_(embeds)\n",
        "net.constant_embedding.weight.data.copy_(embeds)\n",
        "net.constant_embedding.weight.requires_grad = False"
      ]
    },
    {
      "cell_type": "markdown",
      "metadata": {
        "id": "AReFquMjDWCE"
      },
      "source": [
        "### Question 9 [code] **(10 points)**\n",
        "Similar to what we have done in Section 2 with RNN, train the CNN model with the same optimizer and loss function. Draw a graph about your training loss, training acc and testing acc. Use the prediction function you defined in Question 7 to evaluate your model performance."
      ]
    },
    {
      "cell_type": "code",
      "execution_count": null,
      "metadata": {
        "id": "YufmITciDWCE",
        "colab": {
          "base_uri": "https://localhost:8080/",
          "height": 556
        },
        "outputId": "edbc3f7c-fcc5-462d-d4f0-ddc72c211445"
      },
      "outputs": [
        {
          "output_type": "stream",
          "name": "stdout",
          "text": [
            "Epoch: 1, Training Loss: 0.8599\n",
            "Epoch: 2, Training Loss: 0.6545\n",
            "Epoch: 3, Training Loss: 0.5891\n",
            "Epoch: 4, Training Loss: 0.5291\n",
            "Epoch: 5, Training Loss: 0.4789\n"
          ]
        },
        {
          "output_type": "execute_result",
          "data": {
            "text/plain": [
              "Text(0, 0.5, 'Train_loss')"
            ]
          },
          "metadata": {},
          "execution_count": 26
        },
        {
          "output_type": "display_data",
          "data": {
            "text/plain": [
              "<Figure size 640x480 with 1 Axes>"
            ],
            "image/png": "[encoded data removed]"
          },
          "metadata": {}
        }
      ],
      "source": [
        "lr, num_epochs = 0.001, 5\n",
        "### YOUR CODE HERE\n",
        "criterion = nn.CrossEntropyLoss()\n",
        "optimizer = torch.optim.Adam(net.parameters(), lr=lr)\n",
        "device = torch.device(\"cuda\" if torch.cuda.is_available() else \"cpu\")\n",
        "net.to(device)\n",
        "loss_array=[]\n",
        "for n in range(num_epochs):\n",
        "        train_loss = 0\n",
        "        target_num = 0\n",
        "        net.train()\n",
        "        for batch_idx, (data, target) in enumerate(train_iter):\n",
        "            data, target = data.to(device), target.to(device)\n",
        "            loss = None\n",
        "            prediction= net(data)\n",
        "            loss = criterion(prediction,target)\n",
        "            optimizer.zero_grad()\n",
        "            loss.backward()\n",
        "            optimizer.step()\n",
        "            train_loss += loss.item() * target.size(0)\n",
        "            target_num += target.size(0)\n",
        "\n",
        "        train_loss /= target_num\n",
        "        loss_array.append(train_loss)\n",
        "        print('Epoch: {}, Training Loss: {:.4f}'.format(n+1, train_loss))\n",
        "\n",
        "plt.plot([i+1 for i in range(num_epochs)],loss_array)\n",
        "plt.xlabel(\"Epoch\")\n",
        "plt.ylabel(\"Train_loss\")\n",
        "### END OF YOUR CODE"
      ]
    },
    {
      "cell_type": "code",
      "execution_count": null,
      "metadata": {
        "id": "1NqQN7YdDWCE",
        "colab": {
          "base_uri": "https://localhost:8080/",
          "height": 35
        },
        "outputId": "1bad1542-6984-4e96-8688-c92941f8c78e"
      },
      "outputs": [
        {
          "output_type": "execute_result",
          "data": {
            "text/plain": [
              "'positive'"
            ],
            "application/vnd.google.colaboratory.intrinsic+json": {
              "type": "string"
            }
          },
          "metadata": {},
          "execution_count": 27
        }
      ],
      "source": [
        "predict_sentiment(net, vocab, 'this movie is so great')"
      ]
    },
    {
      "cell_type": "code",
      "execution_count": null,
      "metadata": {
        "id": "RYTBzqRxDWCE",
        "colab": {
          "base_uri": "https://localhost:8080/",
          "height": 35
        },
        "outputId": "f0175cd1-14bf-42ed-8cad-ecbe9b8f016b"
      },
      "outputs": [
        {
          "output_type": "execute_result",
          "data": {
            "text/plain": [
              "'negative'"
            ],
            "application/vnd.google.colaboratory.intrinsic+json": {
              "type": "string"
            }
          },
          "metadata": {},
          "execution_count": 28
        }
      ],
      "source": [
        "predict_sentiment(net, vocab, 'this movie is so bad')"
      ]
    },
    {
      "cell_type": "code",
      "execution_count": null,
      "metadata": {
        "id": "bvSxrh8tDWCE",
        "colab": {
          "base_uri": "https://localhost:8080/"
        },
        "outputId": "2de77f9e-70b0-4818-8b8f-381c9769383f"
      },
      "outputs": [
        {
          "output_type": "execute_result",
          "data": {
            "text/plain": [
              "(0.7787033951645749, 0.7247915087187263, 0.84128, 0.76092)"
            ]
          },
          "metadata": {},
          "execution_count": 29
        }
      ],
      "source": [
        "cal_metrics(net, test_iter)"
      ]
    },
    {
      "cell_type": "markdown",
      "metadata": {
        "id": "uF_50GwiDWCE"
      },
      "source": [
        "# Design Challenge (30 points)\n",
        "Now it's time to come up with your own model! You are free to decide what model you want to choose or what architecture you think is better for this task. You are also free to set all the hyperparameter for training (do consider the overfitting issue and the computing cost). From here we will see how important choosing/designing a better model architecture could be when building an NLP application in practice (however, there is no requirement for you to include such comparisons in your report).\n",
        "\n",
        "You are allowed to use external packages for this challenge, but we require that you fully understand the methods/techniques that you used, and you need to clearly explain such details in the submitted report. We will evaluate your system's performance on the held-out test set, which will only be released 48 hours before the deadline. Use your new system to generate the outputs. The system that achieves the highest F1 score will be announced as the winner for the challenge. We may perform further analysis/evaluations in case there is no clear winner based on the released test set.\n",
        "\n",
        "Let's summarize this challenge:"
      ]
    },
    {
      "cell_type": "markdown",
      "metadata": {
        "id": "zjMrw8Y8DWCE"
      },
      "source": [
        "(i) **[Model]** You are required to develop your own model for sentiment analysis, with no restrictions on the model architecture. You may choose to follow RNN/CNN structures or experiment with Transformer-based models. In your submitted report, you must provide a detailed explanation of your model along with the accompanying code. Additionally, you are required to submit your model so that we can reproduce your results.\n",
        "\n",
        "*_(10 points)_*\n",
        "\n",
        "(ii) **[Evaluation]** For a fair comparison, you must train your new model on the same dataset provided to you. After training, evaluate your model on the test set. You are required to report the **precision**, **recall**, **F1 scores**, and **accuracy** of your new model. Save the predicted outcome for the test set and include it in the submission.\n",
        "\n",
        "_Hint:_ You will be competing with other groups on the same test set. Groups with higher performance will receive more points. For instance, if your group ranks 1st among all groups, you will receive 15 points for this section.\n",
        "\n",
        "*_(15 points)_*\n",
        "\n",
        "(iii) **[Report]** You are required to submit a report for your model. The report must include, at a minimum, the following sections: Model Description, Training Settings (e.g., dataset, hyperparameters), Performance, Code to run the model, and a breakdown of how the work was divided among team members. You are encouraged to include any additional details you deem important. Instructions on how to run the code can either be included in a separate README file or integrated into the report, as long as they are clearly presented.\n",
        "\n",
        "Please provide a thorough explanation of the model or method you used for designing the new system, along with clear documentation on how to execute the code. We will review your code, and may request an interview if we have any questions about it.\n",
        "\n",
        "_Note:_ Reports, code, and README files that are of low quality or poorly written will be penalized, so please ensure they are well-organized and clearly formatted. If we are unable to reproduce your model or run your code, you will not receive any points for this challenge.\n",
        "\n",
        "*_(5 points)_*"
      ]
    },
    {
      "cell_type": "markdown",
      "metadata": {
        "id": "PmeBhLnSDWCF"
      },
      "source": [
        "# Start your model in a different .py file with a README explaination."
      ]
    },
    {
      "cell_type": "code",
      "source": [
        "batch_size = 64\n",
        "train_iter, test_iter, vocab = load_data_imdb(batch_size)\n",
        "print(len(vocab))"
      ],
      "metadata": {
        "id": "qq8ryIzes5gx",
        "colab": {
          "base_uri": "https://localhost:8080/"
        },
        "outputId": "2e90a440-2a62-4c11-8161-c0a9bf4f77a2"
      },
      "execution_count": 11,
      "outputs": [
        {
          "output_type": "stream",
          "name": "stdout",
          "text": [
            "49347\n"
          ]
        }
      ]
    },
    {
      "cell_type": "code",
      "source": [
        "from new_approach import EncoderBlockModel"
      ],
      "metadata": {
        "cellView": "code",
        "id": "q2VTBn3bE4UC"
      },
      "execution_count": 12,
      "outputs": []
    },
    {
      "cell_type": "code",
      "source": [
        "devices = d2l.try_all_gpus()\n",
        "net = EncoderBlockModel(vocab_size = len(vocab), embed_size = 100, num_hiddens = 100, num_heads = 5, ffn_num_hiddens = 256, num_layers = 1, dropout = 0.5, num_classes = 2)\n",
        "\n",
        "def init_weights(module):\n",
        "    if type(module) == nn.Linear:\n",
        "        nn.init.xavier_uniform_(module.weight)\n",
        "    if type(module) == nn.LSTM:\n",
        "        for param in module._flat_weights_names:\n",
        "            if \"weight\" in param:\n",
        "                nn.init.xavier_uniform_(module._parameters[param])\n",
        "net.apply(init_weights)"
      ],
      "metadata": {
        "colab": {
          "base_uri": "https://localhost:8080/"
        },
        "id": "b4rq2RXyE7YU",
        "outputId": "0610b129-4200-418e-a5ff-b92c6ea4db6f"
      },
      "execution_count": 13,
      "outputs": [
        {
          "output_type": "execute_result",
          "data": {
            "text/plain": [
              "EncoderBlockModel(\n",
              "  (embedding): Embedding(49347, 100)\n",
              "  (pos_encoding): PositionalEncoding(\n",
              "    (dropout): Dropout(p=0.5, inplace=False)\n",
              "  )\n",
              "  (encoder): Sequential(\n",
              "    (0): Encoder(\n",
              "      (attention): MultiHeadAttention(\n",
              "        (attention): DotProductAttention(\n",
              "          (dropout): Dropout(p=0.5, inplace=False)\n",
              "        )\n",
              "        (W_q): LazyLinear(in_features=0, out_features=100, bias=False)\n",
              "        (W_k): LazyLinear(in_features=0, out_features=100, bias=False)\n",
              "        (W_v): LazyLinear(in_features=0, out_features=100, bias=False)\n",
              "        (W_o): LazyLinear(in_features=0, out_features=100, bias=False)\n",
              "      )\n",
              "      (feed_forward): FeedForward(\n",
              "        (linear1): Linear(in_features=100, out_features=256, bias=True)\n",
              "        (linear2): Linear(in_features=256, out_features=100, bias=True)\n",
              "        (activation): ReLU()\n",
              "      )\n",
              "      (norm1): LayerNorm((100,), eps=1e-05, elementwise_affine=True)\n",
              "      (norm2): LayerNorm((100,), eps=1e-05, elementwise_affine=True)\n",
              "      (dropout): Dropout(p=0.5, inplace=False)\n",
              "    )\n",
              "  )\n",
              "  (dropout): Dropout(p=0.5, inplace=False)\n",
              "  (classifier): Linear(in_features=100, out_features=2, bias=True)\n",
              ")"
            ]
          },
          "metadata": {},
          "execution_count": 13
        }
      ]
    },
    {
      "cell_type": "code",
      "source": [
        "#embeddings, num_hiddens = 100,100\n",
        "glove_embedding = d2l.TokenEmbedding('glove.6b.100d')\n",
        "embeds = glove_embedding[vocab.idx_to_token]\n",
        "net.embedding.weight.data.copy_(embeds)"
      ],
      "metadata": {
        "id": "SS5gRjsXNM7J",
        "colab": {
          "base_uri": "https://localhost:8080/"
        },
        "outputId": "db9415fd-d56d-4d14-d57c-47adbdd214c5"
      },
      "execution_count": 14,
      "outputs": [
        {
          "output_type": "stream",
          "name": "stdout",
          "text": [
            "Downloading ../data/glove.6B.100d.zip from http://d2l-data.s3-accelerate.amazonaws.com/glove.6B.100d.zip...\n"
          ]
        },
        {
          "output_type": "execute_result",
          "data": {
            "text/plain": [
              "tensor([[ 0.3847,  0.4935,  0.4910,  ...,  0.0263,  0.3905,  0.5222],\n",
              "        [ 0.2266,  0.6465,  0.8483,  ...,  0.5471,  0.7697,  0.3507],\n",
              "        [ 0.2254,  0.2679,  0.4935,  ..., -0.1210, -0.1024,  0.3637],\n",
              "        ...,\n",
              "        [-0.5175, -0.5990,  0.3284,  ..., -0.9506, -0.4309,  0.5237],\n",
              "        [ 0.1752,  0.1468, -0.0800,  ...,  0.1581, -0.6230, -0.2806],\n",
              "        [-0.2211, -0.3787, -0.4532,  ..., -0.2616,  0.0806, -1.2265]])"
            ]
          },
          "metadata": {},
          "execution_count": 14
        }
      ]
    },
    {
      "cell_type": "code",
      "source": [
        "lr, num_epochs = 0.001, 5\n",
        "### YOUR CODE HERE\n",
        "criterion = nn.CrossEntropyLoss()\n",
        "optimizer = torch.optim.Adam(net.parameters(), lr=lr,weight_decay=1e-4)\n",
        "net.to(device)\n",
        "loss_array=[]\n",
        "net.train()\n",
        "for n in range(num_epochs):\n",
        "        train_loss = 0\n",
        "        target_num = 0\n",
        "        net.train()\n",
        "        for batch_idx, (data, target) in enumerate(train_iter):\n",
        "            data, target = data.to(device), target.to(device)\n",
        "            loss = None\n",
        "            valid_lens = (data != 0).sum(dim=1).to(device)\n",
        "            prediction= net(data,valid_lens)\n",
        "            loss = criterion(prediction,target)\n",
        "            optimizer.zero_grad()\n",
        "            loss.backward()\n",
        "            optimizer.step()\n",
        "            train_loss += loss.item() * target.size(0)\n",
        "            target_num += target.size(0)\n",
        "\n",
        "        train_loss /= target_num\n",
        "        loss_array.append(train_loss)\n",
        "        print('Epoch: {}, Training Loss: {:.4f}'.format(n+1, train_loss))\n",
        "\n",
        "plt.plot([i+1 for i in range(num_epochs)],loss_array)\n",
        "plt.xlabel(\"Epoch\")\n",
        "plt.ylabel(\"Train_loss\")\n",
        "### END OF YOUR CODE"
      ],
      "metadata": {
        "colab": {
          "base_uri": "https://localhost:8080/",
          "height": 556
        },
        "id": "kQog7B5j4ZAK",
        "outputId": "cd3374b6-9607-41e1-992d-b5e8376f1751"
      },
      "execution_count": 15,
      "outputs": [
        {
          "output_type": "stream",
          "name": "stdout",
          "text": [
            "Epoch: 1, Training Loss: 0.5622\n",
            "Epoch: 2, Training Loss: 0.3949\n",
            "Epoch: 3, Training Loss: 0.3335\n",
            "Epoch: 4, Training Loss: 0.2668\n",
            "Epoch: 5, Training Loss: 0.2015\n"
          ]
        },
        {
          "output_type": "execute_result",
          "data": {
            "text/plain": [
              "Text(0, 0.5, 'Train_loss')"
            ]
          },
          "metadata": {},
          "execution_count": 15
        },
        {
          "output_type": "display_data",
          "data": {
            "text/plain": [
              "<Figure size 640x480 with 1 Axes>"
            ],
            "image/png": "[encoded data removed]"
          },
          "metadata": {}
        }
      ]
    },
    {
      "cell_type": "code",
      "source": [
        "#@save\n",
        "def predict_sentiment2(net, vocab, sequence):\n",
        "    \"\"\"Predict the sentiment of a text sequence.\"\"\"\n",
        "    ### YOUR CODE HERE\n",
        "    indices = [vocab[i] for i in sequence.split()]\n",
        "    device = torch.device(\"cuda\" if torch.cuda.is_available() else \"cpu\")\n",
        "    with torch.no_grad():\n",
        "      temp = 0\n",
        "      for i in range(len(indices)):\n",
        "        if indices[i] != 0:\n",
        "          temp+=1\n",
        "      valid_lens = torch.Tensor([temp])\n",
        "      prediction=net(torch.tensor(indices).unsqueeze(0).to(device),valid_lens.to(device))\n",
        "    label = torch.argmax(prediction, dim=1).item()\n",
        "    ### END OF YOUR CODE\n",
        "    return 'positive' if label == 1 else 'negative'"
      ],
      "metadata": {
        "cellView": "code",
        "id": "b7p77dqwVMTc"
      },
      "execution_count": 16,
      "outputs": []
    },
    {
      "cell_type": "code",
      "source": [
        "def cal_metrics2(net,test_iter): # you can define what input you need in this function\n",
        "    # Rember to output your prediction results and submit together in the zip file\n",
        "    # You can do it within this function, or you create a new function to save the output, both methods are fine\n",
        "    ### YOUR CODE HERE\n",
        "    device = torch.device(\"cuda\" if torch.cuda.is_available() else \"cpu\")\n",
        "    net.to(device)\n",
        "    tp, tn, fp, fn = 0, 0, 0, 0\n",
        "    net.eval()\n",
        "    for batch_idx, (data, target) in enumerate(test_iter):\n",
        "        valid_lens = (data != 0).sum(dim=1).to(device)\n",
        "        data, target = data.to(device), target.to(device)\n",
        "        with torch.no_grad():\n",
        "            prediction = net(data,valid_lens)\n",
        "        label = torch.argmax(prediction, dim=1)\n",
        "\n",
        "        tp += ((label == 1) & (target == 1)).sum().item()\n",
        "        tn += ((label == 0) & (target == 0)).sum().item()\n",
        "        fp += ((label == 1) & (target == 0)).sum().item()\n",
        "        fn += ((label == 0) & (target == 1)).sum().item()\n",
        "\n",
        "    accuracy = (tp+tn)/(tp+tn+fp+fn)\n",
        "    precision = tp/(tp+fp)\n",
        "    recall = tp/(tp+fn)\n",
        "    F1_Score = 2*(precision*recall)/(precision+recall)\n",
        "\n",
        "    ### END OF YOUR CODE\n",
        "\n",
        "    return F1_Score, precision, recall, accuracy"
      ],
      "metadata": {
        "id": "T-xR1vriXDGk"
      },
      "execution_count": 17,
      "outputs": []
    },
    {
      "cell_type": "code",
      "source": [
        "print(predict_sentiment2(net, vocab, 'this movie is so great'))\n",
        "print(predict_sentiment2(net, vocab, 'this movie is so bad'))\n",
        "print(cal_metrics2(net, test_iter))"
      ],
      "metadata": {
        "colab": {
          "base_uri": "https://localhost:8080/"
        },
        "id": "P54T5SaJJsHw",
        "outputId": "f4c68c4c-a9aa-4f2e-8249-d5f8bf39621d"
      },
      "execution_count": 18,
      "outputs": [
        {
          "output_type": "stream",
          "name": "stdout",
          "text": [
            "positive\n",
            "negative\n",
            "(0.8667897864140036, 0.870003223726628, 0.8636, 0.86728)\n"
          ]
        }
      ]
    },
    {
      "cell_type": "code",
      "source": [
        "import pandas as pd\n",
        "def load_data_imdb2(batch_size, train_vocab, num_steps=500):\n",
        "    df_test=pd.read_csv(\"test_data_movie.csv\")\n",
        "    test_data = (df_test['text'].astype(str).tolist(), df_test['label'].tolist())\n",
        "    test_tokens = d2l.tokenize(test_data[0], token='word')\n",
        "    test_features = torch.tensor([d2l.truncate_pad(\n",
        "        vocab[line], num_steps, vocab['<pad>']) for line in test_tokens])\n",
        "    test_iter = DataLoader(TensorDataset(test_features, torch.tensor(test_data[1])), batch_size=batch_size)\n",
        "    return test_iter\n",
        "\n",
        "test_iter_final=load_data_imdb2(batch_size=64, train_vocab=vocab, num_steps=500)"
      ],
      "metadata": {
        "id": "aZxZwyW5CdDd"
      },
      "execution_count": 25,
      "outputs": []
    },
    {
      "cell_type": "code",
      "source": [
        "cal_metrics2(net, test_iter_final)"
      ],
      "metadata": {
        "colab": {
          "base_uri": "https://localhost:8080/"
        },
        "id": "MZiGzDnGcd4_",
        "outputId": "788bb624-b362-49e2-f533-b877ba95b426"
      },
      "execution_count": 27,
      "outputs": [
        {
          "output_type": "execute_result",
          "data": {
            "text/plain": [
              "(0.9214459768382445, 0.9250479168768284, 0.9178719783794604, 0.921825)"
            ]
          },
          "metadata": {},
          "execution_count": 27
        }
      ]
    },
    {
      "cell_type": "code",
      "source": [],
      "metadata": {
        "id": "O_7ZQt4jcGDt"
      },
      "execution_count": null,
      "outputs": []
    },
    {
      "cell_type": "code",
      "source": [],
      "metadata": {
        "id": "EoWTBa25CA_8"
      },
      "execution_count": null,
      "outputs": []
    }
  ],
  "metadata": {
    "colab": {
      "provenance": [],
      "gpuType": "T4"
    },
    "kernelspec": {
      "display_name": "Python 3",
      "name": "python3"
    },
    "language_info": {
      "codemirror_mode": {
        "name": "ipython",
        "version": 3
      },
      "file_extension": ".py",
      "mimetype": "text/x-python",
      "name": "python",
      "nbconvert_exporter": "python",
      "pygments_lexer": "ipython3",
      "version": "3.11.3"
    },
    "accelerator": "GPU"
  },
  "nbformat": 4,
  "nbformat_minor": 0
}